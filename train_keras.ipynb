{
  "nbformat": 4,
  "nbformat_minor": 0,
  "metadata": {
    "accelerator": "GPU",
    "colab": {
      "name": "train_keras.ipynb",
      "provenance": [],
      "collapsed_sections": [],
      "machine_shape": "hm",
      "include_colab_link": true
    },
    "kernelspec": {
      "name": "python3",
      "display_name": "Python 3"
    },
    "language_info": {
      "codemirror_mode": {
        "name": "ipython",
        "version": 3
      },
      "file_extension": ".py",
      "mimetype": "text/x-python",
      "name": "python",
      "nbconvert_exporter": "python",
      "pygments_lexer": "ipython3",
      "version": "3.7.5"
    },
    "gpuClass": "standard"
  },
  "cells": [
    {
      "cell_type": "markdown",
      "metadata": {
        "id": "view-in-github",
        "colab_type": "text"
      },
      "source": [
        "<a href=\"https://colab.research.google.com/github/GruAna/VU/blob/master/train_keras.ipynb\" target=\"_parent\"><img src=\"https://colab.research.google.com/assets/colab-badge.svg\" alt=\"Open In Colab\"/></a>"
      ]
    },
    {
      "cell_type": "markdown",
      "metadata": {
        "id": "jPQEvP0y_d02"
      },
      "source": [
        "# Fine-tuning recognizer with keras-ocr\n",
        "\n",
        "This is an interactive example of the code documented in https://keras-ocr.readthedocs.io/en/latest/examples/fine_tuning_recognizer.html"
      ]
    },
    {
      "cell_type": "code",
      "metadata": {
        "id": "9kuzOODGiZdq",
        "colab": {
          "base_uri": "https://localhost:8080/"
        },
        "outputId": "3c6d2a6d-7eb7-4d3f-ff50-bd7e248a5ea4"
      },
      "source": [
        "!pip install -U git+https://github.com/faustomorales/keras-ocr.git#egg=keras-ocr\n",
        "!pip install imgaug==0.2.9\n",
        "!pip install -U opencv-python # We need the most recent version of OpenCV."
      ],
      "execution_count": 1,
      "outputs": [
        {
          "output_type": "stream",
          "name": "stdout",
          "text": [
            "Looking in indexes: https://pypi.org/simple, https://us-python.pkg.dev/colab-wheels/public/simple/\n",
            "Collecting keras-ocr\n",
            "  Cloning https://github.com/faustomorales/keras-ocr.git to /tmp/pip-install-nsu8ia_6/keras-ocr_fc6d5fda3f214dbd8775e388e7c52019\n",
            "  Running command git clone -q https://github.com/faustomorales/keras-ocr.git /tmp/pip-install-nsu8ia_6/keras-ocr_fc6d5fda3f214dbd8775e388e7c52019\n",
            "  Installing build dependencies ... \u001b[?25l\u001b[?25hdone\n",
            "  Getting requirements to build wheel ... \u001b[?25l\u001b[?25hdone\n",
            "    Preparing wheel metadata ... \u001b[?25l\u001b[?25hdone\n",
            "Requirement already satisfied: fonttools in /usr/local/lib/python3.7/dist-packages (from keras-ocr) (4.34.4)\n",
            "Requirement already satisfied: pyclipper in /usr/local/lib/python3.7/dist-packages (from keras-ocr) (1.3.0.post3)\n",
            "Requirement already satisfied: tqdm in /usr/local/lib/python3.7/dist-packages (from keras-ocr) (4.64.0)\n",
            "Requirement already satisfied: essential_generators in /usr/local/lib/python3.7/dist-packages (from keras-ocr) (1.0)\n",
            "Requirement already satisfied: imgaug in /usr/local/lib/python3.7/dist-packages (from keras-ocr) (0.2.9)\n",
            "Requirement already satisfied: shapely in /usr/local/lib/python3.7/dist-packages (from keras-ocr) (1.8.2)\n",
            "Requirement already satisfied: editdistance in /usr/local/lib/python3.7/dist-packages (from keras-ocr) (0.5.3)\n",
            "Requirement already satisfied: efficientnet==1.0.0 in /usr/local/lib/python3.7/dist-packages (from keras-ocr) (1.0.0)\n",
            "Requirement already satisfied: validators in /usr/local/lib/python3.7/dist-packages (from keras-ocr) (0.20.0)\n",
            "Requirement already satisfied: scikit-image in /usr/local/lib/python3.7/dist-packages (from efficientnet==1.0.0->keras-ocr) (0.18.3)\n",
            "Requirement already satisfied: keras-applications<=1.0.8,>=1.0.7 in /usr/local/lib/python3.7/dist-packages (from efficientnet==1.0.0->keras-ocr) (1.0.8)\n",
            "Requirement already satisfied: h5py in /usr/local/lib/python3.7/dist-packages (from keras-applications<=1.0.8,>=1.0.7->efficientnet==1.0.0->keras-ocr) (3.1.0)\n",
            "Requirement already satisfied: numpy>=1.9.1 in /usr/local/lib/python3.7/dist-packages (from keras-applications<=1.0.8,>=1.0.7->efficientnet==1.0.0->keras-ocr) (1.21.6)\n",
            "Requirement already satisfied: cached-property in /usr/local/lib/python3.7/dist-packages (from h5py->keras-applications<=1.0.8,>=1.0.7->efficientnet==1.0.0->keras-ocr) (1.5.2)\n",
            "Requirement already satisfied: imageio in /usr/local/lib/python3.7/dist-packages (from imgaug->keras-ocr) (2.9.0)\n",
            "Requirement already satisfied: opencv-python in /usr/local/lib/python3.7/dist-packages (from imgaug->keras-ocr) (4.6.0.66)\n",
            "Requirement already satisfied: six in /usr/local/lib/python3.7/dist-packages (from imgaug->keras-ocr) (1.15.0)\n",
            "Requirement already satisfied: Pillow in /usr/local/lib/python3.7/dist-packages (from imgaug->keras-ocr) (7.1.2)\n",
            "Requirement already satisfied: scipy in /usr/local/lib/python3.7/dist-packages (from imgaug->keras-ocr) (1.7.3)\n",
            "Requirement already satisfied: matplotlib in /usr/local/lib/python3.7/dist-packages (from imgaug->keras-ocr) (3.2.2)\n",
            "Requirement already satisfied: networkx>=2.0 in /usr/local/lib/python3.7/dist-packages (from scikit-image->efficientnet==1.0.0->keras-ocr) (2.6.3)\n",
            "Requirement already satisfied: tifffile>=2019.7.26 in /usr/local/lib/python3.7/dist-packages (from scikit-image->efficientnet==1.0.0->keras-ocr) (2021.11.2)\n",
            "Requirement already satisfied: PyWavelets>=1.1.1 in /usr/local/lib/python3.7/dist-packages (from scikit-image->efficientnet==1.0.0->keras-ocr) (1.3.0)\n",
            "Requirement already satisfied: pyparsing!=2.0.4,!=2.1.2,!=2.1.6,>=2.0.1 in /usr/local/lib/python3.7/dist-packages (from matplotlib->imgaug->keras-ocr) (3.0.9)\n",
            "Requirement already satisfied: python-dateutil>=2.1 in /usr/local/lib/python3.7/dist-packages (from matplotlib->imgaug->keras-ocr) (2.8.2)\n",
            "Requirement already satisfied: cycler>=0.10 in /usr/local/lib/python3.7/dist-packages (from matplotlib->imgaug->keras-ocr) (0.11.0)\n",
            "Requirement already satisfied: kiwisolver>=1.0.1 in /usr/local/lib/python3.7/dist-packages (from matplotlib->imgaug->keras-ocr) (1.4.4)\n",
            "Requirement already satisfied: typing-extensions in /usr/local/lib/python3.7/dist-packages (from kiwisolver>=1.0.1->matplotlib->imgaug->keras-ocr) (4.1.1)\n",
            "Requirement already satisfied: decorator>=3.4.0 in /usr/local/lib/python3.7/dist-packages (from validators->keras-ocr) (4.4.2)\n",
            "Looking in indexes: https://pypi.org/simple, https://us-python.pkg.dev/colab-wheels/public/simple/\n",
            "Requirement already satisfied: imgaug==0.2.9 in /usr/local/lib/python3.7/dist-packages (0.2.9)\n",
            "Requirement already satisfied: Pillow in /usr/local/lib/python3.7/dist-packages (from imgaug==0.2.9) (7.1.2)\n",
            "Requirement already satisfied: numpy>=1.15.0 in /usr/local/lib/python3.7/dist-packages (from imgaug==0.2.9) (1.21.6)\n",
            "Requirement already satisfied: scipy in /usr/local/lib/python3.7/dist-packages (from imgaug==0.2.9) (1.7.3)\n",
            "Requirement already satisfied: scikit-image>=0.11.0 in /usr/local/lib/python3.7/dist-packages (from imgaug==0.2.9) (0.18.3)\n",
            "Requirement already satisfied: Shapely in /usr/local/lib/python3.7/dist-packages (from imgaug==0.2.9) (1.8.2)\n",
            "Requirement already satisfied: opencv-python in /usr/local/lib/python3.7/dist-packages (from imgaug==0.2.9) (4.6.0.66)\n",
            "Requirement already satisfied: matplotlib in /usr/local/lib/python3.7/dist-packages (from imgaug==0.2.9) (3.2.2)\n",
            "Requirement already satisfied: six in /usr/local/lib/python3.7/dist-packages (from imgaug==0.2.9) (1.15.0)\n",
            "Requirement already satisfied: imageio in /usr/local/lib/python3.7/dist-packages (from imgaug==0.2.9) (2.9.0)\n",
            "Requirement already satisfied: tifffile>=2019.7.26 in /usr/local/lib/python3.7/dist-packages (from scikit-image>=0.11.0->imgaug==0.2.9) (2021.11.2)\n",
            "Requirement already satisfied: PyWavelets>=1.1.1 in /usr/local/lib/python3.7/dist-packages (from scikit-image>=0.11.0->imgaug==0.2.9) (1.3.0)\n",
            "Requirement already satisfied: networkx>=2.0 in /usr/local/lib/python3.7/dist-packages (from scikit-image>=0.11.0->imgaug==0.2.9) (2.6.3)\n",
            "Requirement already satisfied: pyparsing!=2.0.4,!=2.1.2,!=2.1.6,>=2.0.1 in /usr/local/lib/python3.7/dist-packages (from matplotlib->imgaug==0.2.9) (3.0.9)\n",
            "Requirement already satisfied: kiwisolver>=1.0.1 in /usr/local/lib/python3.7/dist-packages (from matplotlib->imgaug==0.2.9) (1.4.4)\n",
            "Requirement already satisfied: cycler>=0.10 in /usr/local/lib/python3.7/dist-packages (from matplotlib->imgaug==0.2.9) (0.11.0)\n",
            "Requirement already satisfied: python-dateutil>=2.1 in /usr/local/lib/python3.7/dist-packages (from matplotlib->imgaug==0.2.9) (2.8.2)\n",
            "Requirement already satisfied: typing-extensions in /usr/local/lib/python3.7/dist-packages (from kiwisolver>=1.0.1->matplotlib->imgaug==0.2.9) (4.1.1)\n",
            "Looking in indexes: https://pypi.org/simple, https://us-python.pkg.dev/colab-wheels/public/simple/\n",
            "Requirement already satisfied: opencv-python in /usr/local/lib/python3.7/dist-packages (4.6.0.66)\n",
            "Requirement already satisfied: numpy>=1.14.5 in /usr/local/lib/python3.7/dist-packages (from opencv-python) (1.21.6)\n"
          ]
        }
      ]
    },
    {
      "cell_type": "code",
      "execution_count": 2,
      "metadata": {
        "colab": {
          "base_uri": "https://localhost:8080/"
        },
        "id": "T4OFu2Y3jrBl",
        "outputId": "1c9521dd-156d-4991-def9-a77bf2f801b7"
      },
      "outputs": [
        {
          "output_type": "stream",
          "name": "stdout",
          "text": [
            "Drive already mounted at /content/drive; to attempt to forcibly remount, call drive.mount(\"/content/drive\", force_remount=True).\n"
          ]
        }
      ],
      "source": [
        "from google.colab import drive\n",
        "drive.mount('/content/drive')\n",
        "!cp /content/drive/MyDrive/Colab_Notebooks/VU/utils.py /content"
      ]
    },
    {
      "cell_type": "code",
      "source": [
        "from utils import *"
      ],
      "metadata": {
        "id": "gFpdf7UTWJek"
      },
      "execution_count": 60,
      "outputs": []
    },
    {
      "cell_type": "code",
      "source": [
        "import random\n",
        "import string\n",
        "import math\n",
        "import itertools\n",
        "import os\n",
        "import cv2 as cv\n",
        "\n",
        "import numpy as np\n",
        "import imgaug\n",
        "import matplotlib.pyplot as plt\n",
        "import tensorflow as tf\n",
        "import sklearn.model_selection\n",
        "\n",
        "import keras_ocr\n",
        "\n",
        "assert tf.config.list_physical_devices('GPU')"
      ],
      "metadata": {
        "id": "fkylwCISQ743"
      },
      "execution_count": 66,
      "outputs": []
    },
    {
      "cell_type": "markdown",
      "source": [
        "## Dataset loading (training data)"
      ],
      "metadata": {
        "id": "lhPOAy5ZYF39"
      }
    },
    {
      "cell_type": "markdown",
      "source": [
        "**CTW1500 dataset**"
      ],
      "metadata": {
        "id": "t4ceHCnUZFEc"
      }
    },
    {
      "cell_type": "markdown",
      "source": [
        "Get images. Update location of images **manually**."
      ],
      "metadata": {
        "id": "97DN9W0tPrGx"
      }
    },
    {
      "cell_type": "code",
      "source": [
        "# path to image directory, get full path to all files\n",
        "# imgs_dir = '/content/drive/MyDrive/Colab_Notebooks/VU/CTW1500/train_images'\n",
        "imgs_dir = '/content/drive/MyDrive/Colab_Notebooks/VU/alljpg'\n",
        "\n",
        "(_, _, filenames) = next(os.walk(imgs_dir))\n",
        "filenames.sort()\n",
        "list_img_paths = [os.path.join(imgs_dir, file) for file in filenames]\n",
        "n_imgs = len(list_img_paths)\n",
        "\n",
        "# load images\n",
        "train_images = [(cv.imread(file)) for file in list_img_paths]\n",
        "\n",
        "# path to label directory, get full path to all files\n",
        "# labels_dir = '/content/drive/MyDrive/Colab_Notebooks/VU/CTW1500/ctw1500_train_labels'\n",
        "labels_dir = '/content/drive/MyDrive/Colab_Notebooks/VU/allxml'\n",
        "\n",
        "(_, _, xml_files) = next(os.walk(labels_dir))\n",
        "xml_files.sort()\n",
        "list_xml_paths = [os.path.join(labels_dir, file) for file in xml_files]\n",
        "\n"
      ],
      "metadata": {
        "id": "k8mtKHdykOfq"
      },
      "execution_count": 57,
      "outputs": []
    },
    {
      "cell_type": "markdown",
      "source": [
        "Get ground truths from all xml files"
      ],
      "metadata": {
        "id": "rttWVgWP1Dg5"
      }
    },
    {
      "cell_type": "code",
      "source": [
        "ground_truth = []\n",
        "\n",
        "for i, file in enumerate(list_xml_paths):\n",
        "    #  ground_truth.append(read_gt_ctw_train(file))\n",
        "     ground_truth.append(read_gt_wien(file))\n",
        "# ground_truth is in the is a list of tuples, where first is the gt word \n",
        "# and second is an array of top left and bottom right coordinates\n",
        "# format: ('text', [[tl,tl],[br,br]])"
      ],
      "metadata": {
        "id": "yjB3g4kN1BeZ"
      },
      "execution_count": 61,
      "outputs": []
    },
    {
      "cell_type": "code",
      "source": [
        "! rm -r /content/train_data/\n"
      ],
      "metadata": {
        "id": "2DI7OmpXY6XM"
      },
      "execution_count": 55,
      "outputs": []
    },
    {
      "cell_type": "markdown",
      "source": [
        "From CTW 1000 training images we obain 7405 cropped images = texts.\n",
        "From Vienna Poster dataset we obtain ."
      ],
      "metadata": {
        "id": "45sRzP74Z9NB"
      }
    },
    {
      "cell_type": "code",
      "source": [
        "def image_text_crop(images, filenames, ground_truth, one_file=True, result_folder='./results', skip_longer_than=40):\n",
        "    \"\"\"\n",
        "    Crops and saves images based on bounding box ground truth for each text region.\n",
        "    Creates text file with corresponding annotation.\n",
        "    Parameter:\n",
        "    - images: loaded images\n",
        "    - filenames: list of image filenames with extension\n",
        "    - groun_truth: list of gt tuples first text annotation, second np.array of \n",
        "    left top and bottom right coodinates, format: ('text', [[tl,tl],[br,br]])\n",
        "    \"\"\"\n",
        "\n",
        "    # test if there are not more gts than images\n",
        "    # else the for loop will never get to those exceeding image count\n",
        "    gt_length = len(ground_truth)\n",
        "    if len(images) > gt_length:\n",
        "        images = images[:gt_length]\n",
        "\n",
        "    if not os.path.isdir(result_folder):\n",
        "        os.mkdir(result_folder)\n",
        "    \n",
        "    all_texts = []\n",
        "    for i, img in tqdm(enumerate(images)):\n",
        "        name, ext = os.path.splitext(filenames[i])\n",
        "\n",
        "        # count regions in one image - used for file naming purposes\n",
        "        region = 1\n",
        "        \n",
        "        for text, bbox in ground_truth[i]:\n",
        "            if text is None:\n",
        "                continue\n",
        "            if len(text) > skip_longer_than:\n",
        "                continue\n",
        "            # select image within coordinates (bbox)\n",
        "            cropped = img[bbox[0,1]:bbox[1,1], bbox[0,0]:bbox[1,0]]\n",
        "\n",
        "            # create image file:\n",
        "            # name in format \"original-00region.ext\"\n",
        "            new_name = name + '-' + str(region).zfill(3)\n",
        "            \n",
        "            if np.size(cropped):\n",
        "                cv.imwrite(os.path.join(result_folder, new_name + ext), cropped)\n",
        "                # create  text annotation file(s)\n",
        "                if one_file:\n",
        "                    all_texts.append(new_name + ext + '\\t' + text)\n",
        "                else:\n",
        "                    # one file for each image with word\n",
        "                    with open(os.path.join(result_folder, new_name + '.gt.txt'), 'w') as f:\n",
        "                        f.write(text)\n",
        "                region += 1\n",
        "    \n",
        "    if one_file:\n",
        "        with open(os.path.join(result_folder, 'gt.txt'), 'w') as f:\n",
        "            for line in all_texts:\n",
        "                f.writelines(line+'\\n')\n",
        "\n",
        "    return all_texts\n",
        "            "
      ],
      "metadata": {
        "id": "xgbL3Je0qRjj"
      },
      "execution_count": 62,
      "outputs": []
    },
    {
      "cell_type": "code",
      "source": [
        "cropped_gt = image_text_crop(train_images, filenames, ground_truth,  result_folder='./train_data')\n",
        "train_dir = '/content/train_data/'\n",
        "(_, _, train_files) = next(os.walk(train_dir))\n",
        "train_files = [os.path.join(train_dir, file) for file in sorted(train_files)]\n"
      ],
      "metadata": {
        "id": "DNfzqFayx9Wx",
        "colab": {
          "base_uri": "https://localhost:8080/"
        },
        "outputId": "70991920-8ea9-4e46-d867-ee492ab45c5e"
      },
      "execution_count": 63,
      "outputs": [
        {
          "output_type": "stream",
          "name": "stderr",
          "text": [
            "257it [00:08, 29.32it/s]\n"
          ]
        }
      ]
    },
    {
      "cell_type": "code",
      "source": [
        "%reset"
      ],
      "metadata": {
        "id": "WrKctp0mxLFZ"
      },
      "execution_count": null,
      "outputs": []
    },
    {
      "cell_type": "markdown",
      "source": [
        "Again do imports."
      ],
      "metadata": {
        "id": "Ei_eGguKxNMj"
      }
    },
    {
      "cell_type": "code",
      "source": [
        "cropped_gt = []\n",
        "with open('/content/train_data/gt.txt', \"r\") as file:\n",
        "    for line in file:\n",
        "        if line.strip():\n",
        "            cropped_gt.append(line)\n",
        "\n",
        "train_dir = '/content/train_data/'\n",
        "(_, _, train_files) = next(os.walk(train_dir))\n",
        "train_files = [os.path.join(train_dir, file) for file in sorted(train_files)]"
      ],
      "metadata": {
        "id": "BH5cRiV8uGlE"
      },
      "execution_count": 100,
      "outputs": []
    },
    {
      "cell_type": "code",
      "source": [
        "len(cropped_gt)"
      ],
      "metadata": {
        "colab": {
          "base_uri": "https://localhost:8080/"
        },
        "id": "8HnaAbPq2DIm",
        "outputId": "6ba35975-3c0e-4e16-dfb8-8c5b66c573e0"
      },
      "execution_count": 101,
      "outputs": [
        {
          "output_type": "execute_result",
          "data": {
            "text/plain": [
              "4525"
            ]
          },
          "metadata": {},
          "execution_count": 101
        }
      ]
    },
    {
      "cell_type": "code",
      "source": [
        "import string\n",
        "alphabet = string.ascii_lowercase + string.digits + ' '"
      ],
      "metadata": {
        "id": "7OIAgsIGXHOb"
      },
      "execution_count": 89,
      "outputs": []
    },
    {
      "cell_type": "markdown",
      "source": [
        "Train labels must contain only characters from alphabet or space."
      ],
      "metadata": {
        "id": "cDhhCEgLwXLY"
      }
    },
    {
      "cell_type": "code",
      "metadata": {
        "id": "1fCivLsTi8qA"
      },
      "source": [
        "train_lbls = [\n",
        "    (filepath, None, ' '.join(''.join(\n",
        "        char for char in word.split('\\t',1)[1].lower() if (char in alphabet)).split()) ) \n",
        "    for filepath, word in list(zip(train_files, cropped_gt))\n",
        "    ]"
      ],
      "execution_count": 102,
      "outputs": []
    },
    {
      "cell_type": "markdown",
      "metadata": {
        "id": "2vENhyWB_tWw"
      },
      "source": [
        "We next build our recognizer, using the default options to get a pretrained model."
      ]
    },
    {
      "cell_type": "code",
      "metadata": {
        "id": "wbZicDRHjKCe",
        "outputId": "e22ede14-ee65-414a-d14d-825bae41f75c",
        "colab": {
          "base_uri": "https://localhost:8080/"
        }
      },
      "source": [
        "recognizer = keras_ocr.recognition.Recognizer(alphabet=alphabet)\n",
        "recognizer.compile()"
      ],
      "execution_count": 103,
      "outputs": [
        {
          "output_type": "stream",
          "name": "stdout",
          "text": [
            "Provided alphabet does not match pretrained alphabet. Using backbone weights only.\n",
            "Looking for /root/.keras-ocr/crnn_kurapan_notop.h5\n"
          ]
        }
      ]
    },
    {
      "cell_type": "code",
      "metadata": {
        "id": "XoMz6FAkjr13"
      },
      "source": [
        "batch_size = 8\n",
        "augmenter = imgaug.augmenters.Sequential([\n",
        "    imgaug.augmenters.GammaContrast(gamma=(0.25, 3.0)),\n",
        "])\n",
        "\n",
        "train_labels, validation_labels = sklearn.model_selection.train_test_split(train_lbls, test_size=0.2, random_state=42)\n",
        "(training_image_gen, training_steps), (validation_image_gen, validation_steps) = [\n",
        "    (\n",
        "        keras_ocr.datasets.get_recognizer_image_generator(\n",
        "            labels=labels,\n",
        "            height=recognizer.model.input_shape[1],\n",
        "            width=recognizer.model.input_shape[2],\n",
        "            alphabet=recognizer.alphabet,\n",
        "            augmenter=augmenter\n",
        "        ),\n",
        "        len(labels) // batch_size\n",
        "    ) for labels, augmenter in [(train_labels, augmenter), (validation_labels, None)]     \n",
        "]\n",
        "training_gen, validation_gen = [\n",
        "    recognizer.get_batch_generator(\n",
        "        image_generator=image_generator,\n",
        "        batch_size=batch_size\n",
        "    )\n",
        "    for image_generator in [training_image_gen, validation_image_gen]\n",
        "]"
      ],
      "execution_count": 104,
      "outputs": []
    },
    {
      "cell_type": "markdown",
      "metadata": {
        "id": "jKG7BB_4_2tI"
      },
      "source": [
        "As a sanity check, we show one of the samples."
      ]
    },
    {
      "cell_type": "code",
      "metadata": {
        "id": "z2eHTeZW-lFt",
        "outputId": "1e2b65c8-0ffe-494b-c5c9-68a9f471f45e",
        "colab": {
          "base_uri": "https://localhost:8080/",
          "height": 120
        }
      },
      "source": [
        "image, text = next(validation_image_gen)\n",
        "print('text:', text)\n",
        "_ = plt.imshow(image)"
      ],
      "execution_count": 105,
      "outputs": [
        {
          "output_type": "stream",
          "name": "stdout",
          "text": [
            "text: wien\n"
          ]
        },
        {
          "output_type": "display_data",
          "data": {
            "text/plain": [
              "<Figure size 432x288 with 1 Axes>"
            ],
            "image/png": "[encoded data removed]"
          },
          "metadata": {
            "needs_background": "light"
          }
        }
      ]
    },
    {
      "cell_type": "markdown",
      "metadata": {
        "id": "z_xEBogs_4cK"
      },
      "source": [
        "### Training"
      ]
    },
    {
      "cell_type": "code",
      "metadata": {
        "id": "bwfxrcKFjtxi",
        "colab": {
          "base_uri": "https://localhost:8080/"
        },
        "outputId": "49ee0706-6cde-432c-b959-8a3f13aaee0b"
      },
      "source": [
        "callbacks = [\n",
        "    tf.keras.callbacks.EarlyStopping(monitor='val_loss', min_delta=0, patience=10, restore_best_weights=False),\n",
        "    tf.keras.callbacks.ModelCheckpoint('recognizer_space.h5', monitor='val_loss', save_best_only=True),\n",
        "    tf.keras.callbacks.CSVLogger('recognizer_space.csv')\n",
        "]\n",
        "\n",
        "recognizer.training_model.fit(\n",
        "    training_gen,\n",
        "    steps_per_epoch=training_steps,\n",
        "    validation_steps=validation_steps,\n",
        "    validation_data=validation_gen,\n",
        "    callbacks=callbacks,\n",
        "    epochs=100,\n",
        ")"
      ],
      "execution_count": 106,
      "outputs": [
        {
          "output_type": "stream",
          "name": "stdout",
          "text": [
            "Epoch 1/100\n",
            "452/452 [==============================] - 76s 113ms/step - loss: 12.1130 - val_loss: 8.3067\n",
            "Epoch 2/100\n",
            "452/452 [==============================] - 49s 108ms/step - loss: 6.6963 - val_loss: 6.9739\n",
            "Epoch 3/100\n",
            "452/452 [==============================] - 49s 107ms/step - loss: 5.5288 - val_loss: 6.8795\n",
            "Epoch 4/100\n",
            "452/452 [==============================] - 49s 108ms/step - loss: 5.1825 - val_loss: 6.7024\n",
            "Epoch 5/100\n",
            "452/452 [==============================] - 48s 107ms/step - loss: 5.1640 - val_loss: 8.2819\n",
            "Epoch 6/100\n",
            "452/452 [==============================] - 48s 106ms/step - loss: 6.2404 - val_loss: 9.0725\n",
            "Epoch 7/100\n",
            "452/452 [==============================] - 48s 106ms/step - loss: 6.0203 - val_loss: 9.7556\n",
            "Epoch 8/100\n",
            "452/452 [==============================] - 48s 106ms/step - loss: 6.0758 - val_loss: 6.4848\n",
            "Epoch 9/100\n",
            "452/452 [==============================] - 48s 106ms/step - loss: 4.7878 - val_loss: 6.9820\n",
            "Epoch 10/100\n",
            "452/452 [==============================] - 48s 106ms/step - loss: 4.2534 - val_loss: 6.1612\n",
            "Epoch 11/100\n",
            "452/452 [==============================] - 49s 107ms/step - loss: 7.7565 - val_loss: 9.5528\n",
            "Epoch 12/100\n",
            "452/452 [==============================] - 48s 107ms/step - loss: 8.3659 - val_loss: 7.1442\n",
            "Epoch 13/100\n",
            "452/452 [==============================] - 48s 107ms/step - loss: 7.3957 - val_loss: 20.0640\n",
            "Epoch 14/100\n",
            "452/452 [==============================] - 48s 107ms/step - loss: 17.2697 - val_loss: 18.5299\n",
            "Epoch 15/100\n",
            "452/452 [==============================] - 51s 114ms/step - loss: 18.7122 - val_loss: 18.8437\n",
            "Epoch 16/100\n",
            "452/452 [==============================] - 48s 106ms/step - loss: 17.4491 - val_loss: 18.0027\n",
            "Epoch 17/100\n",
            "452/452 [==============================] - 49s 109ms/step - loss: 14.2523 - val_loss: 13.4058\n",
            "Epoch 18/100\n",
            "452/452 [==============================] - 48s 107ms/step - loss: 12.1832 - val_loss: 16.6029\n",
            "Epoch 19/100\n",
            "452/452 [==============================] - 48s 107ms/step - loss: 18.0565 - val_loss: 19.6923\n",
            "Epoch 20/100\n",
            "452/452 [==============================] - 48s 106ms/step - loss: 18.0579 - val_loss: 19.7067\n"
          ]
        },
        {
          "output_type": "execute_result",
          "data": {
            "text/plain": [
              "<keras.callbacks.History at 0x7f9ef8463fd0>"
            ]
          },
          "metadata": {},
          "execution_count": 106
        }
      ]
    },
    {
      "cell_type": "markdown",
      "metadata": {
        "id": "PPGLJuLg_6iF"
      },
      "source": [
        "Finally, run inference on a test sample."
      ]
    },
    {
      "cell_type": "code",
      "metadata": {
        "id": "nRNPIzN7kdvY",
        "outputId": "e5496ee7-39b1-4f09-c738-b65fb4635adb",
        "colab": {
          "base_uri": "https://localhost:8080/",
          "height": 285
        }
      },
      "source": [
        "image_filepath, _, actual = train_labels[22]\n",
        "predicted = recognizer.recognize(image_filepath)\n",
        "print(f'Predicted: {predicted}, Actual: {actual}')\n",
        "_ = plt.imshow(keras_ocr.tools.read(image_filepath))"
      ],
      "execution_count": 107,
      "outputs": [
        {
          "output_type": "stream",
          "name": "stdout",
          "text": [
            "Predicted: e, Actual: anker\n"
          ]
        },
        {
          "output_type": "display_data",
          "data": {
            "text/plain": [
              "<Figure size 432x288 with 1 Axes>"
            ],
            "image/png": "[encoded data removed]"
          },
          "metadata": {
            "needs_background": "light"
          }
        }
      ]
    },
    {
      "cell_type": "code",
      "source": [
        "recognizer.model.load_weights('recognizer_space.h5')"
      ],
      "metadata": {
        "id": "-rNUnyVXQ1Gx"
      },
      "execution_count": 108,
      "outputs": []
    },
    {
      "cell_type": "code",
      "source": [
        "image_filepath, _, actual = train_labels[22]\n",
        "predicted = recognizer.recognize(image_filepath)\n",
        "print(f'Predicted: {predicted}, Actual: {actual}')\n",
        "_ = plt.imshow(keras_ocr.tools.read(image_filepath))"
      ],
      "metadata": {
        "colab": {
          "base_uri": "https://localhost:8080/",
          "height": 171
        },
        "id": "nlsVt3sjRSUK",
        "outputId": "09b30a7b-6e44-4e1d-fb86-3757b9da6d38"
      },
      "execution_count": 112,
      "outputs": [
        {
          "output_type": "stream",
          "name": "stdout",
          "text": [
            "Predicted: wien, Actual: wien\n"
          ]
        },
        {
          "output_type": "display_data",
          "data": {
            "text/plain": [
              "<Figure size 432x288 with 1 Axes>"
            ],
            "image/png": "[encoded data removed]"
          },
          "metadata": {
            "needs_background": "light"
          }
        }
      ]
    },
    {
      "cell_type": "code",
      "source": [
        ""
      ],
      "metadata": {
        "id": "Qa1YlkrqRUoa"
      },
      "execution_count": null,
      "outputs": []
    }
  ]
}