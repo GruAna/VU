{
  "nbformat": 4,
  "nbformat_minor": 0,
  "metadata": {
    "accelerator": "GPU",
    "colab": {
      "name": "train_keras.ipynb",
      "provenance": [],
      "collapsed_sections": [],
      "machine_shape": "hm",
      "include_colab_link": true
    },
    "kernelspec": {
      "name": "python3",
      "display_name": "Python 3"
    },
    "language_info": {
      "codemirror_mode": {
        "name": "ipython",
        "version": 3
      },
      "file_extension": ".py",
      "mimetype": "text/x-python",
      "name": "python",
      "nbconvert_exporter": "python",
      "pygments_lexer": "ipython3",
      "version": "3.7.5"
    },
    "gpuClass": "standard"
  },
  "cells": [
    {
      "cell_type": "markdown",
      "metadata": {
        "id": "view-in-github",
        "colab_type": "text"
      },
      "source": [
        "<a href=\"https://colab.research.google.com/github/GruAna/VU/blob/master/train_keras.ipynb\" target=\"_parent\"><img src=\"https://colab.research.google.com/assets/colab-badge.svg\" alt=\"Open In Colab\"/></a>"
      ]
    },
    {
      "cell_type": "markdown",
      "metadata": {
        "id": "jPQEvP0y_d02"
      },
      "source": [
        "# Fine-tuning recognizer with keras-ocr\n",
        "\n",
        "This is an interactive example of the code documented in https://keras-ocr.readthedocs.io/en/latest/examples/fine_tuning_recognizer.html"
      ]
    },
    {
      "cell_type": "code",
      "metadata": {
        "id": "9kuzOODGiZdq",
        "colab": {
          "base_uri": "https://localhost:8080/"
        },
        "outputId": "caceb351-602b-44f7-ef5a-c175a1a42a99"
      },
      "source": [
        "!pip install -U git+https://github.com/faustomorales/keras-ocr.git#egg=keras-ocr\n",
        "!pip install imgaug==0.2.9\n",
        "!pip install -U opencv-python # We need the most recent version of OpenCV."
      ],
      "execution_count": 1,
      "outputs": [
        {
          "output_type": "stream",
          "name": "stdout",
          "text": [
            "Looking in indexes: https://pypi.org/simple, https://us-python.pkg.dev/colab-wheels/public/simple/\n",
            "Collecting keras-ocr\n",
            "  Cloning https://github.com/faustomorales/keras-ocr.git to /tmp/pip-install-8qhkszss/keras-ocr_8d9dd6475b7a457c83119fe5662b1bd9\n",
            "  Running command git clone -q https://github.com/faustomorales/keras-ocr.git /tmp/pip-install-8qhkszss/keras-ocr_8d9dd6475b7a457c83119fe5662b1bd9\n",
            "  Installing build dependencies ... \u001b[?25l\u001b[?25hdone\n",
            "  Getting requirements to build wheel ... \u001b[?25l\u001b[?25hdone\n",
            "    Preparing wheel metadata ... \u001b[?25l\u001b[?25hdone\n",
            "Collecting essential_generators\n",
            "  Downloading essential_generators-1.0-py3-none-any.whl (9.5 MB)\n",
            "\u001b[K     |████████████████████████████████| 9.5 MB 34.4 MB/s \n",
            "\u001b[?25hCollecting fonttools\n",
            "  Downloading fonttools-4.33.3-py3-none-any.whl (930 kB)\n",
            "\u001b[K     |████████████████████████████████| 930 kB 57.4 MB/s \n",
            "\u001b[?25hCollecting efficientnet==1.0.0\n",
            "  Downloading efficientnet-1.0.0-py3-none-any.whl (17 kB)\n",
            "Requirement already satisfied: tqdm in /usr/local/lib/python3.7/dist-packages (from keras-ocr) (4.64.0)\n",
            "Collecting validators\n",
            "  Downloading validators-0.20.0.tar.gz (30 kB)\n",
            "Collecting pyclipper\n",
            "  Downloading pyclipper-1.3.0.post3-cp37-cp37m-manylinux_2_5_x86_64.manylinux1_x86_64.whl (604 kB)\n",
            "\u001b[K     |████████████████████████████████| 604 kB 56.2 MB/s \n",
            "\u001b[?25hRequirement already satisfied: shapely in /usr/local/lib/python3.7/dist-packages (from keras-ocr) (1.8.2)\n",
            "Requirement already satisfied: imgaug in /usr/local/lib/python3.7/dist-packages (from keras-ocr) (0.2.9)\n",
            "Requirement already satisfied: editdistance in /usr/local/lib/python3.7/dist-packages (from keras-ocr) (0.5.3)\n",
            "Collecting keras-applications<=1.0.8,>=1.0.7\n",
            "  Downloading Keras_Applications-1.0.8-py3-none-any.whl (50 kB)\n",
            "\u001b[K     |████████████████████████████████| 50 kB 7.8 MB/s \n",
            "\u001b[?25hRequirement already satisfied: scikit-image in /usr/local/lib/python3.7/dist-packages (from efficientnet==1.0.0->keras-ocr) (0.18.3)\n",
            "Requirement already satisfied: numpy>=1.9.1 in /usr/local/lib/python3.7/dist-packages (from keras-applications<=1.0.8,>=1.0.7->efficientnet==1.0.0->keras-ocr) (1.21.6)\n",
            "Requirement already satisfied: h5py in /usr/local/lib/python3.7/dist-packages (from keras-applications<=1.0.8,>=1.0.7->efficientnet==1.0.0->keras-ocr) (3.1.0)\n",
            "Requirement already satisfied: cached-property in /usr/local/lib/python3.7/dist-packages (from h5py->keras-applications<=1.0.8,>=1.0.7->efficientnet==1.0.0->keras-ocr) (1.5.2)\n",
            "Requirement already satisfied: scipy in /usr/local/lib/python3.7/dist-packages (from imgaug->keras-ocr) (1.4.1)\n",
            "Requirement already satisfied: matplotlib in /usr/local/lib/python3.7/dist-packages (from imgaug->keras-ocr) (3.2.2)\n",
            "Requirement already satisfied: opencv-python in /usr/local/lib/python3.7/dist-packages (from imgaug->keras-ocr) (4.1.2.30)\n",
            "Requirement already satisfied: imageio in /usr/local/lib/python3.7/dist-packages (from imgaug->keras-ocr) (2.4.1)\n",
            "Requirement already satisfied: six in /usr/local/lib/python3.7/dist-packages (from imgaug->keras-ocr) (1.15.0)\n",
            "Requirement already satisfied: Pillow in /usr/local/lib/python3.7/dist-packages (from imgaug->keras-ocr) (7.1.2)\n",
            "Requirement already satisfied: PyWavelets>=1.1.1 in /usr/local/lib/python3.7/dist-packages (from scikit-image->efficientnet==1.0.0->keras-ocr) (1.3.0)\n",
            "Requirement already satisfied: networkx>=2.0 in /usr/local/lib/python3.7/dist-packages (from scikit-image->efficientnet==1.0.0->keras-ocr) (2.6.3)\n",
            "Requirement already satisfied: tifffile>=2019.7.26 in /usr/local/lib/python3.7/dist-packages (from scikit-image->efficientnet==1.0.0->keras-ocr) (2021.11.2)\n",
            "Requirement already satisfied: cycler>=0.10 in /usr/local/lib/python3.7/dist-packages (from matplotlib->imgaug->keras-ocr) (0.11.0)\n",
            "Requirement already satisfied: python-dateutil>=2.1 in /usr/local/lib/python3.7/dist-packages (from matplotlib->imgaug->keras-ocr) (2.8.2)\n",
            "Requirement already satisfied: kiwisolver>=1.0.1 in /usr/local/lib/python3.7/dist-packages (from matplotlib->imgaug->keras-ocr) (1.4.3)\n",
            "Requirement already satisfied: pyparsing!=2.0.4,!=2.1.2,!=2.1.6,>=2.0.1 in /usr/local/lib/python3.7/dist-packages (from matplotlib->imgaug->keras-ocr) (3.0.9)\n",
            "Requirement already satisfied: typing-extensions in /usr/local/lib/python3.7/dist-packages (from kiwisolver>=1.0.1->matplotlib->imgaug->keras-ocr) (4.1.1)\n",
            "Requirement already satisfied: decorator>=3.4.0 in /usr/local/lib/python3.7/dist-packages (from validators->keras-ocr) (4.4.2)\n",
            "Building wheels for collected packages: keras-ocr, validators\n",
            "  Building wheel for keras-ocr (PEP 517) ... \u001b[?25l\u001b[?25hdone\n",
            "  Created wheel for keras-ocr: filename=keras_ocr-0.9.0.post2+40bb9bd-py3-none-any.whl size=42441 sha256=395ed38f34cb967c37e2cf7ce5f322a5231d7070ae68addf74cc2ca4a5851340\n",
            "  Stored in directory: /tmp/pip-ephem-wheel-cache-nmzuc7he/wheels/20/d0/06/ed290995144ec8dde71d3a91d0d590145445c01be60ea70c9b\n",
            "  Building wheel for validators (setup.py) ... \u001b[?25l\u001b[?25hdone\n",
            "  Created wheel for validators: filename=validators-0.20.0-py3-none-any.whl size=19582 sha256=db5569a422426a1032a90cfb467476348b841af6a17764d87932cb3579d2b529\n",
            "  Stored in directory: /root/.cache/pip/wheels/5f/55/ab/36a76989f7f88d9ca7b1f68da6d94252bb6a8d6ad4f18e04e9\n",
            "Successfully built keras-ocr validators\n",
            "Installing collected packages: keras-applications, validators, pyclipper, fonttools, essential-generators, efficientnet, keras-ocr\n",
            "Successfully installed efficientnet-1.0.0 essential-generators-1.0 fonttools-4.33.3 keras-applications-1.0.8 keras-ocr-0.9.0.post2+40bb9bd pyclipper-1.3.0.post3 validators-0.20.0\n",
            "Looking in indexes: https://pypi.org/simple, https://us-python.pkg.dev/colab-wheels/public/simple/\n",
            "Requirement already satisfied: imgaug==0.2.9 in /usr/local/lib/python3.7/dist-packages (0.2.9)\n",
            "Requirement already satisfied: imageio in /usr/local/lib/python3.7/dist-packages (from imgaug==0.2.9) (2.4.1)\n",
            "Requirement already satisfied: numpy>=1.15.0 in /usr/local/lib/python3.7/dist-packages (from imgaug==0.2.9) (1.21.6)\n",
            "Requirement already satisfied: Shapely in /usr/local/lib/python3.7/dist-packages (from imgaug==0.2.9) (1.8.2)\n",
            "Requirement already satisfied: scikit-image>=0.11.0 in /usr/local/lib/python3.7/dist-packages (from imgaug==0.2.9) (0.18.3)\n",
            "Requirement already satisfied: scipy in /usr/local/lib/python3.7/dist-packages (from imgaug==0.2.9) (1.4.1)\n",
            "Requirement already satisfied: six in /usr/local/lib/python3.7/dist-packages (from imgaug==0.2.9) (1.15.0)\n",
            "Requirement already satisfied: Pillow in /usr/local/lib/python3.7/dist-packages (from imgaug==0.2.9) (7.1.2)\n",
            "Requirement already satisfied: matplotlib in /usr/local/lib/python3.7/dist-packages (from imgaug==0.2.9) (3.2.2)\n",
            "Requirement already satisfied: opencv-python in /usr/local/lib/python3.7/dist-packages (from imgaug==0.2.9) (4.1.2.30)\n",
            "Requirement already satisfied: networkx>=2.0 in /usr/local/lib/python3.7/dist-packages (from scikit-image>=0.11.0->imgaug==0.2.9) (2.6.3)\n",
            "Requirement already satisfied: PyWavelets>=1.1.1 in /usr/local/lib/python3.7/dist-packages (from scikit-image>=0.11.0->imgaug==0.2.9) (1.3.0)\n",
            "Requirement already satisfied: tifffile>=2019.7.26 in /usr/local/lib/python3.7/dist-packages (from scikit-image>=0.11.0->imgaug==0.2.9) (2021.11.2)\n",
            "Requirement already satisfied: cycler>=0.10 in /usr/local/lib/python3.7/dist-packages (from matplotlib->imgaug==0.2.9) (0.11.0)\n",
            "Requirement already satisfied: python-dateutil>=2.1 in /usr/local/lib/python3.7/dist-packages (from matplotlib->imgaug==0.2.9) (2.8.2)\n",
            "Requirement already satisfied: pyparsing!=2.0.4,!=2.1.2,!=2.1.6,>=2.0.1 in /usr/local/lib/python3.7/dist-packages (from matplotlib->imgaug==0.2.9) (3.0.9)\n",
            "Requirement already satisfied: kiwisolver>=1.0.1 in /usr/local/lib/python3.7/dist-packages (from matplotlib->imgaug==0.2.9) (1.4.3)\n",
            "Requirement already satisfied: typing-extensions in /usr/local/lib/python3.7/dist-packages (from kiwisolver>=1.0.1->matplotlib->imgaug==0.2.9) (4.1.1)\n",
            "Looking in indexes: https://pypi.org/simple, https://us-python.pkg.dev/colab-wheels/public/simple/\n",
            "Requirement already satisfied: opencv-python in /usr/local/lib/python3.7/dist-packages (4.1.2.30)\n",
            "Collecting opencv-python\n",
            "  Downloading opencv_python-4.6.0.66-cp36-abi3-manylinux_2_17_x86_64.manylinux2014_x86_64.whl (60.9 MB)\n",
            "\u001b[K     |████████████████████████████████| 60.9 MB 1.2 MB/s \n",
            "\u001b[?25hRequirement already satisfied: numpy>=1.14.5 in /usr/local/lib/python3.7/dist-packages (from opencv-python) (1.21.6)\n",
            "Installing collected packages: opencv-python\n",
            "  Attempting uninstall: opencv-python\n",
            "    Found existing installation: opencv-python 4.1.2.30\n",
            "    Uninstalling opencv-python-4.1.2.30:\n",
            "      Successfully uninstalled opencv-python-4.1.2.30\n",
            "\u001b[31mERROR: pip's dependency resolver does not currently take into account all the packages that are installed. This behaviour is the source of the following dependency conflicts.\n",
            "albumentations 0.1.12 requires imgaug<0.2.7,>=0.2.5, but you have imgaug 0.2.9 which is incompatible.\u001b[0m\n",
            "Successfully installed opencv-python-4.6.0.66\n"
          ]
        }
      ]
    },
    {
      "cell_type": "code",
      "execution_count": 3,
      "metadata": {
        "colab": {
          "base_uri": "https://localhost:8080/"
        },
        "id": "T4OFu2Y3jrBl",
        "outputId": "025b20a3-bee9-4f6f-ee10-ded44fa6fa23"
      },
      "outputs": [
        {
          "output_type": "stream",
          "name": "stdout",
          "text": [
            "Mounted at /content/drive\n"
          ]
        }
      ],
      "source": [
        "from google.colab import drive\n",
        "drive.mount('/content/drive')\n",
        "!cp /content/drive/MyDrive/Colab_Notebooks/VU/utils.py /content"
      ]
    },
    {
      "cell_type": "code",
      "source": [
        "from utils import *"
      ],
      "metadata": {
        "id": "gFpdf7UTWJek"
      },
      "execution_count": 4,
      "outputs": []
    },
    {
      "cell_type": "code",
      "source": [
        "import random\n",
        "import string\n",
        "import math\n",
        "import itertools\n",
        "import os\n",
        "import cv2 as cv\n",
        "\n",
        "import numpy as np\n",
        "import imgaug\n",
        "import matplotlib.pyplot as plt\n",
        "import tensorflow as tf\n",
        "import sklearn.model_selection\n",
        "\n",
        "import keras_ocr\n",
        "\n",
        "assert tf.config.list_physical_devices('GPU')"
      ],
      "metadata": {
        "id": "fkylwCISQ743"
      },
      "execution_count": 2,
      "outputs": []
    },
    {
      "cell_type": "markdown",
      "source": [
        "## Dataset loading (training data)"
      ],
      "metadata": {
        "id": "lhPOAy5ZYF39"
      }
    },
    {
      "cell_type": "markdown",
      "source": [
        "**CTW1500 dataset**"
      ],
      "metadata": {
        "id": "t4ceHCnUZFEc"
      }
    },
    {
      "cell_type": "markdown",
      "source": [
        "Get images. Update location of images **manually**."
      ],
      "metadata": {
        "id": "97DN9W0tPrGx"
      }
    },
    {
      "cell_type": "code",
      "source": [
        "# path to image directory, get full path to all files\n",
        "imgs_dir = '/content/drive/MyDrive/Colab_Notebooks/VU/CTW1500/train_images'\n",
        "(_, _, filenames) = next(os.walk(imgs_dir))\n",
        "filenames.sort()\n",
        "list_img_paths = [os.path.join(imgs_dir, file) for file in filenames]\n",
        "n_imgs = len(list_img_paths)\n",
        "\n",
        "# load images\n",
        "train_images = [(cv.imread(file)) for file in list_img_paths]\n",
        "\n",
        "# path to label directory, get full path to all files\n",
        "labels_dir = '/content/drive/MyDrive/Colab_Notebooks/VU/CTW1500/ctw1500_train_labels'\n",
        "(_, _, xml_files) = next(os.walk(labels_dir))\n",
        "xml_files.sort()\n",
        "list_xml_paths = [os.path.join(labels_dir, file) for file in xml_files]\n",
        "\n"
      ],
      "metadata": {
        "id": "k8mtKHdykOfq"
      },
      "execution_count": 5,
      "outputs": []
    },
    {
      "cell_type": "markdown",
      "source": [
        "Get ground truths from all xml files"
      ],
      "metadata": {
        "id": "rttWVgWP1Dg5"
      }
    },
    {
      "cell_type": "code",
      "source": [
        "ground_truth = []\n",
        "\n",
        "for i, file in enumerate(list_xml_paths):\n",
        "     ground_truth.append(read_gt_ctw_train(file))\n",
        "\n",
        "# ground_truth is in the is a list of tuples, where first is the gt word \n",
        "# and second is an array of top left and bottom right coordinates\n",
        "# format: ('text', [[tl,tl],[br,br]])"
      ],
      "metadata": {
        "id": "yjB3g4kN1BeZ"
      },
      "execution_count": 6,
      "outputs": []
    },
    {
      "cell_type": "code",
      "source": [
        "! rm -r /content/train_data/\n"
      ],
      "metadata": {
        "id": "2DI7OmpXY6XM"
      },
      "execution_count": null,
      "outputs": []
    },
    {
      "cell_type": "markdown",
      "source": [
        "From CTW 1000 training images we obain 7405 cropped images = texts."
      ],
      "metadata": {
        "id": "45sRzP74Z9NB"
      }
    },
    {
      "cell_type": "code",
      "source": [
        "cropped_gt = image_text_crop(train_images, filenames, ground_truth,  result_folder='./train_data')\n",
        "train_dir = '/content/train_data/'\n",
        "(_, _, train_files) = next(os.walk(train_dir))\n",
        "train_files = [os.path.join(train_dir, file) for file in sorted(train_files)]"
      ],
      "metadata": {
        "id": "DNfzqFayx9Wx",
        "colab": {
          "base_uri": "https://localhost:8080/"
        },
        "outputId": "dcd5a348-2865-40f4-b3b0-95e8ed673163"
      },
      "execution_count": 7,
      "outputs": [
        {
          "output_type": "stream",
          "name": "stderr",
          "text": [
            "1000it [00:12, 77.64it/s]\n"
          ]
        }
      ]
    },
    {
      "cell_type": "markdown",
      "source": [
        ""
      ],
      "metadata": {
        "id": "FnVQfd_SYjm5"
      }
    },
    {
      "cell_type": "code",
      "source": [
        "import string\n",
        "alphabet = string.ascii_letters + string.digits + '* /.:,+-¥$%&=!?'"
      ],
      "metadata": {
        "id": "7OIAgsIGXHOb"
      },
      "execution_count": 34,
      "outputs": []
    },
    {
      "cell_type": "code",
      "source": [
        "print(string.ascii_letters)"
      ],
      "metadata": {
        "colab": {
          "base_uri": "https://localhost:8080/"
        },
        "id": "qIQZClkV81zc",
        "outputId": "7a734b5e-6420-4faf-db45-64db6e16d6bf"
      },
      "execution_count": 30,
      "outputs": [
        {
          "output_type": "stream",
          "name": "stdout",
          "text": [
            "abcdefghijklmnopqrstuvwxyzABCDEFGHIJKLMNOPQRSTUVWXYZ\n"
          ]
        }
      ]
    },
    {
      "cell_type": "code",
      "metadata": {
        "id": "1fCivLsTi8qA"
      },
      "source": [
        "train_lbls = [\n",
        "    (filepath, None, ' '.join(''.join(\n",
        "        char for char in word.split('\\t',1)[1] if (char in alphabet)).split()) ) \n",
        "    for filepath, word in list(zip(train_files, cropped_gt))\n",
        "    ]"
      ],
      "execution_count": 9,
      "outputs": []
    },
    {
      "cell_type": "markdown",
      "metadata": {
        "id": "2vENhyWB_tWw"
      },
      "source": [
        "We next build our recognizer, using the default options to get a pretrained model."
      ]
    },
    {
      "cell_type": "code",
      "metadata": {
        "id": "wbZicDRHjKCe",
        "outputId": "3881f943-8c7d-483a-9e1a-0be436fd8f6d",
        "colab": {
          "base_uri": "https://localhost:8080/"
        }
      },
      "source": [
        "recognizer = keras_ocr.recognition.Recognizer(alphabet=alphabet)\n",
        "recognizer.compile()"
      ],
      "execution_count": 35,
      "outputs": [
        {
          "output_type": "stream",
          "name": "stdout",
          "text": [
            "Provided alphabet does not match pretrained alphabet. Using backbone weights only.\n",
            "Looking for /root/.keras-ocr/crnn_kurapan_notop.h5\n"
          ]
        }
      ]
    },
    {
      "cell_type": "code",
      "metadata": {
        "id": "XoMz6FAkjr13"
      },
      "source": [
        "batch_size = 8\n",
        "augmenter = imgaug.augmenters.Sequential([\n",
        "    imgaug.augmenters.GammaContrast(gamma=(0.25, 3.0)),\n",
        "])\n",
        "\n",
        "train_labels, validation_labels = sklearn.model_selection.train_test_split(train_lbls, test_size=0.2, random_state=42)\n",
        "(training_image_gen, training_steps), (validation_image_gen, validation_steps) = [\n",
        "    (\n",
        "        keras_ocr.datasets.get_recognizer_image_generator(\n",
        "            labels=labels,\n",
        "            height=recognizer.model.input_shape[1],\n",
        "            width=recognizer.model.input_shape[2],\n",
        "            alphabet=recognizer.alphabet,\n",
        "            augmenter=augmenter\n",
        "        ),\n",
        "        len(labels) // batch_size\n",
        "    ) for labels, augmenter in [(train_labels, augmenter), (validation_labels, None)]     \n",
        "]\n",
        "training_gen, validation_gen = [\n",
        "    recognizer.get_batch_generator(\n",
        "        image_generator=image_generator,\n",
        "        batch_size=batch_size\n",
        "    )\n",
        "    for image_generator in [training_image_gen, validation_image_gen]\n",
        "]"
      ],
      "execution_count": 12,
      "outputs": []
    },
    {
      "cell_type": "code",
      "source": [
        "len(validation_labels)"
      ],
      "metadata": {
        "colab": {
          "base_uri": "https://localhost:8080/"
        },
        "id": "gLG__f4mgemp",
        "outputId": "bcaa5754-ad7e-4a43-f87d-27c8bbf361c0"
      },
      "execution_count": 13,
      "outputs": [
        {
          "output_type": "execute_result",
          "data": {
            "text/plain": [
              "1481"
            ]
          },
          "metadata": {},
          "execution_count": 13
        }
      ]
    },
    {
      "cell_type": "markdown",
      "metadata": {
        "id": "jKG7BB_4_2tI"
      },
      "source": [
        "As a sanity check, we show one of the samples."
      ]
    },
    {
      "cell_type": "code",
      "metadata": {
        "id": "z2eHTeZW-lFt",
        "outputId": "e05194f2-a196-4b3c-da66-b23dd4b6c993",
        "colab": {
          "base_uri": "https://localhost:8080/",
          "height": 120
        }
      },
      "source": [
        "image, text = next(validation_image_gen)\n",
        "print('text:', text)\n",
        "_ = plt.imshow(image)"
      ],
      "execution_count": 14,
      "outputs": [
        {
          "output_type": "stream",
          "name": "stdout",
          "text": [
            "text: PENNY FOR PENNY.\n"
          ]
        },
        {
          "output_type": "display_data",
          "data": {
            "text/plain": [
              "<Figure size 432x288 with 1 Axes>"
            ],
            "image/png": "[encoded data removed]"
          },
          "metadata": {
            "needs_background": "light"
          }
        }
      ]
    },
    {
      "cell_type": "markdown",
      "metadata": {
        "id": "z_xEBogs_4cK"
      },
      "source": [
        "### Training"
      ]
    },
    {
      "cell_type": "code",
      "source": [
        "recognizer.model.load_weights('recognizer_ctw3.h5')"
      ],
      "metadata": {
        "id": "SAidr_Nc-A5G"
      },
      "execution_count": 38,
      "outputs": []
    },
    {
      "cell_type": "code",
      "metadata": {
        "id": "bwfxrcKFjtxi",
        "colab": {
          "base_uri": "https://localhost:8080/"
        },
        "outputId": "7c95e3b2-1173-4121-d41e-6ac17c019e6b"
      },
      "source": [
        "callbacks = [\n",
        "    tf.keras.callbacks.EarlyStopping(monitor='val_loss', min_delta=0, patience=20, restore_best_weights=False),\n",
        "    tf.keras.callbacks.ModelCheckpoint('recognizer_ctw4_cont.h5', monitor='val_loss', save_best_only=True),\n",
        "    tf.keras.callbacks.CSVLogger('recognizer_ctw_cont.csv')\n",
        "]\n",
        "\n",
        "recognizer.training_model.fit(\n",
        "    training_gen,\n",
        "    steps_per_epoch=training_steps,\n",
        "    validation_steps=validation_steps,\n",
        "    validation_data=validation_gen,\n",
        "    callbacks=callbacks,\n",
        "    epochs=100,\n",
        ")"
      ],
      "execution_count": 42,
      "outputs": [
        {
          "output_type": "stream",
          "name": "stdout",
          "text": [
            "Epoch 1/100\n",
            "740/740 [==============================] - 88s 108ms/step - loss: 14.2685 - val_loss: 20.5361\n",
            "Epoch 2/100\n",
            "740/740 [==============================] - 77s 104ms/step - loss: 13.7432 - val_loss: 19.9845\n",
            "Epoch 3/100\n",
            "740/740 [==============================] - 76s 103ms/step - loss: 15.0463 - val_loss: 24.1202\n",
            "Epoch 4/100\n",
            "740/740 [==============================] - 78s 105ms/step - loss: 15.1730 - val_loss: 19.6230\n",
            "Epoch 5/100\n",
            "740/740 [==============================] - 77s 103ms/step - loss: 12.5834 - val_loss: 20.2977\n",
            "Epoch 6/100\n",
            "740/740 [==============================] - 76s 103ms/step - loss: 12.1846 - val_loss: 20.0616\n",
            "Epoch 7/100\n",
            "740/740 [==============================] - 76s 103ms/step - loss: 12.0041 - val_loss: 20.2306\n",
            "Epoch 8/100\n",
            "740/740 [==============================] - 76s 103ms/step - loss: 11.7752 - val_loss: 21.6563\n",
            "Epoch 9/100\n",
            "740/740 [==============================] - 78s 106ms/step - loss: 11.1631 - val_loss: 20.0144\n",
            "Epoch 10/100\n",
            "740/740 [==============================] - 76s 102ms/step - loss: 10.7533 - val_loss: 21.7067\n",
            "Epoch 11/100\n",
            "740/740 [==============================] - 76s 102ms/step - loss: 10.2755 - val_loss: 20.2130\n",
            "Epoch 12/100\n",
            "740/740 [==============================] - 76s 103ms/step - loss: 16.2086 - val_loss: 32.8624\n",
            "Epoch 13/100\n",
            "740/740 [==============================] - 76s 103ms/step - loss: 24.4718 - val_loss: 33.0454\n",
            "Epoch 14/100\n",
            "740/740 [==============================] - 76s 103ms/step - loss: 32.7499 - val_loss: 39.8457\n",
            "Epoch 15/100\n",
            "740/740 [==============================] - 76s 103ms/step - loss: 35.7923 - val_loss: 33.0994\n",
            "Epoch 16/100\n",
            "740/740 [==============================] - 76s 103ms/step - loss: 32.1830 - val_loss: 45.0963\n",
            "Epoch 17/100\n",
            "740/740 [==============================] - 77s 104ms/step - loss: 35.6455 - val_loss: 38.5092\n",
            "Epoch 18/100\n",
            "740/740 [==============================] - 77s 103ms/step - loss: 30.3756 - val_loss: 27.3050\n",
            "Epoch 19/100\n",
            "740/740 [==============================] - 76s 103ms/step - loss: 15.6999 - val_loss: 19.6461\n",
            "Epoch 20/100\n",
            "740/740 [==============================] - 77s 104ms/step - loss: 17.2997 - val_loss: 20.2420\n",
            "Epoch 21/100\n",
            "740/740 [==============================] - 77s 104ms/step - loss: 12.6374 - val_loss: 20.0447\n",
            "Epoch 22/100\n",
            "740/740 [==============================] - 78s 105ms/step - loss: 11.2977 - val_loss: 20.7645\n",
            "Epoch 23/100\n",
            "740/740 [==============================] - 77s 105ms/step - loss: 11.0070 - val_loss: 21.7749\n",
            "Epoch 24/100\n",
            "740/740 [==============================] - 77s 104ms/step - loss: 10.3888 - val_loss: 21.4180\n"
          ]
        },
        {
          "output_type": "execute_result",
          "data": {
            "text/plain": [
              "<keras.callbacks.History at 0x7f62279b2b90>"
            ]
          },
          "metadata": {},
          "execution_count": 42
        }
      ]
    },
    {
      "cell_type": "markdown",
      "metadata": {
        "id": "PPGLJuLg_6iF"
      },
      "source": [
        "Finally, run inference on a test sample."
      ]
    },
    {
      "cell_type": "code",
      "metadata": {
        "id": "nRNPIzN7kdvY",
        "outputId": "e2d27971-7fce-468b-e4d3-811371ca474b",
        "colab": {
          "base_uri": "https://localhost:8080/",
          "height": 113
        }
      },
      "source": [
        "image_filepath, _, actual = train_labels[2]\n",
        "predicted = recognizer.recognize(image_filepath)\n",
        "print(f'Predicted: {predicted}, Actual: {actual}')\n",
        "_ = plt.imshow(keras_ocr.tools.read(image_filepath))"
      ],
      "execution_count": 29,
      "outputs": [
        {
          "output_type": "stream",
          "name": "stdout",
          "text": [
            "Predicted: majesilig, Actual: MAJESTIC\n"
          ]
        },
        {
          "output_type": "display_data",
          "data": {
            "text/plain": [
              "<Figure size 432x288 with 1 Axes>"
            ],
            "image/png": "[encoded data removed]"
          },
          "metadata": {
            "needs_background": "light"
          }
        }
      ]
    },
    {
      "cell_type": "code",
      "source": [
        "recognizer.model.load_weights('recognizer_ctw4_cont.h5')"
      ],
      "metadata": {
        "id": "-rNUnyVXQ1Gx"
      },
      "execution_count": 43,
      "outputs": []
    },
    {
      "cell_type": "code",
      "source": [
        "image_filepath, _, actual = train_labels[1]\n",
        "predicted = recognizer.recognize(image_filepath)\n",
        "print(f'Predicted: {predicted}, Actual: {actual}')\n",
        "_ = plt.imshow(keras_ocr.tools.read(image_filepath))"
      ],
      "metadata": {
        "colab": {
          "base_uri": "https://localhost:8080/",
          "height": 88
        },
        "id": "nlsVt3sjRSUK",
        "outputId": "7e1994d6-cfca-42bf-9e7a-06d146d28881"
      },
      "execution_count": 47,
      "outputs": [
        {
          "output_type": "stream",
          "name": "stdout",
          "text": [
            "Predicted: NO OUVOESIU ROO DE RAMLBAN COMUNON, Actual: NO OLVIDES TU FOTO DE PRIMERA COMUNION\n"
          ]
        },
        {
          "output_type": "display_data",
          "data": {
            "text/plain": [
              "<Figure size 432x288 with 1 Axes>"
            ],
            "image/png": "[encoded data removed]"
          },
          "metadata": {
            "needs_background": "light"
          }
        }
      ]
    },
    {
      "cell_type": "code",
      "source": [
        ""
      ],
      "metadata": {
        "id": "Qa1YlkrqRUoa"
      },
      "execution_count": null,
      "outputs": []
    }
  ]
}