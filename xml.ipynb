{
  "nbformat": 4,
  "nbformat_minor": 0,
  "metadata": {
    "colab": {
      "name": "xml.ipynb",
      "provenance": [],
      "collapsed_sections": [],
      "include_colab_link": true
    },
    "kernelspec": {
      "name": "python3",
      "display_name": "Python 3"
    },
    "language_info": {
      "name": "python"
    }
  },
  "cells": [
    {
      "cell_type": "markdown",
      "metadata": {
        "id": "view-in-github",
        "colab_type": "text"
      },
      "source": [
        "<a href=\"https://colab.research.google.com/github/GruAna/VU/blob/master/xml.ipynb\" target=\"_parent\"><img src=\"https://colab.research.google.com/assets/colab-badge.svg\" alt=\"Open In Colab\"/></a>"
      ]
    },
    {
      "cell_type": "code",
      "source": [
        "import xml.etree.ElementTree as ET\n",
        "import numpy as np"
      ],
      "metadata": {
        "id": "KbLbqMD_Apaq"
      },
      "execution_count": null,
      "outputs": []
    },
    {
      "cell_type": "markdown",
      "source": [
        "## Historical poster dataset"
      ],
      "metadata": {
        "id": "FkbXIWqb9nTI"
      }
    },
    {
      "cell_type": "code",
      "source": [
        "def read_gt_poster(xml_file):\n",
        "  # poster dataset\n",
        "  # returns labels in a tuple - first contains coordinates (8 numbers), second word (string)\n",
        "  tree = ET.parse(xml_file)\n",
        "  root = tree.getroot()\n",
        "  root.iter('{http://schema.primaresearch.org/PAGE/gts/pagecontent/2019-07-15}TextRegion')\n",
        "\n",
        "  labels = []\n",
        "  for word in root.iter('{http://schema.primaresearch.org/PAGE/gts/pagecontent/2019-07-15}Word'):\n",
        "    coords = word.find('{http://schema.primaresearch.org/PAGE/gts/pagecontent/2019-07-15}Coords').get('points')\n",
        "    text = word.find('{http://schema.primaresearch.org/PAGE/gts/pagecontent/2019-07-15}TextEquiv')\n",
        "    labels.append((coords, text[0].text))\n",
        "\n",
        "  return labels\n",
        "\n",
        "labels = getLabelsXml('P-21007.xml')\n",
        "print(labels)"
      ],
      "metadata": {
        "colab": {
          "base_uri": "https://localhost:8080/"
        },
        "id": "Rp_Kp5KN3Gdc",
        "outputId": "11ac2bd1-649e-46d1-d71e-6ceff4995440"
      },
      "execution_count": null,
      "outputs": [
        {
          "output_type": "stream",
          "name": "stdout",
          "text": [
            "('242,1942 242,2077 595,2077 595,1942', 'durch')\n"
          ]
        }
      ]
    },
    {
      "cell_type": "markdown",
      "source": [
        "KAISTdetectiondataset"
      ],
      "metadata": {
        "id": "SEBbZn3u9rJ9"
      }
    },
    {
      "cell_type": "code",
      "source": [
        "def read_gt_kaist(xml_file, scaling_ratio=1):\n",
        "    \"\"\"\n",
        "    KAISTdetectiondataset dataset (XML - labels parser)\n",
        "    Returns ground truth in a tuple - first contains coordinates (8 numbers), second word (string).\n",
        "    If image was previously scaled, one might need to scale also gt coordinates by given ratio.\n",
        "    \"\"\"\n",
        "    gt = []\n",
        "\n",
        "    tree = ET.parse(xml_file)\n",
        "    root = tree.getroot()\n",
        "    print(root[0][2])\n",
        "    # get values in this order: height, width, x (left) coordinate, y (top) coordinate\n",
        "    for i, bbox in enumerate(root[0][2].findall('word')):\n",
        "        # create list of integers with bounding box values, sort by attribute name\n",
        "        # in case in different document there is a different order of attributes\n",
        "        bbox_integer = [int(val) for key, val in sorted(bbox.attrib.items(), key = lambda el: el[0])]\n",
        "        \n",
        "        # calculate bottom coordinate of bounding rectangle x+width, y+height\n",
        "        x_right= int((bbox_integer[2] + bbox_integer[1]) * scaling_ratio)\n",
        "        y_bottom = int((bbox_integer[3] + bbox_integer[0]) * scaling_ratio)\n",
        "        x_left = int(bbox_integer[2] * scaling_ratio)\n",
        "        y_top = int(bbox_integer[3] * scaling_ratio)\n",
        "\n",
        "        bbox_coords = np.array([[x_left, y_top], [x_right, y_bottom]])\n",
        "\n",
        "        # get label\n",
        "        label = \"\"\n",
        "        for char in root[0][2][i].findall('character'):\n",
        "            ch = char.get('char')\n",
        "            print(char)\n",
        "            label += ch\n",
        "        # create list of labels and corresponding boundin boxes\n",
        "        gt.append((label, bbox_coords))\n",
        "\n",
        "    return gt"
      ],
      "metadata": {
        "id": "l4AiV91j7StH"
      },
      "execution_count": null,
      "outputs": []
    },
    {
      "cell_type": "code",
      "source": [
        "labels = read_gt_kaist('/content/DSC02423.xml')\n",
        "print(labels)"
      ],
      "metadata": {
        "colab": {
          "base_uri": "https://localhost:8080/"
        },
        "id": "jbmrTTmwAs1c",
        "outputId": "a2a73abf-07c8-439a-fd80-aabc8218f311"
      },
      "execution_count": null,
      "outputs": [
        {
          "output_type": "stream",
          "name": "stdout",
          "text": [
            "<Element 'words' at 0x7f3b72997710>\n",
            "0 <Element 'word' at 0x7f3b729ae350>\n",
            "<Element 'character' at 0x7f3b729ae9b0>\n",
            "<Element 'character' at 0x7f3b729aefb0>\n",
            "<Element 'character' at 0x7f3b729ae530>\n",
            "<Element 'character' at 0x7f3b729aeef0>\n",
            "<Element 'character' at 0x7f3b729ae890>\n",
            "<Element 'character' at 0x7f3b729ae830>\n",
            "<Element 'character' at 0x7f3b729ae1d0>\n",
            "<Element 'character' at 0x7f3b729aebf0>\n",
            "<Element 'character' at 0x7f3b729aee90>\n",
            "1 <Element 'word' at 0x7f3b729ae710>\n",
            "<Element 'character' at 0x7f3b729aea70>\n",
            "<Element 'character' at 0x7f3b729ae590>\n",
            "<Element 'character' at 0x7f3b729ae7d0>\n",
            "<Element 'character' at 0x7f3b729aed10>\n",
            "<Element 'character' at 0x7f3b72a6e710>\n",
            "<Element 'character' at 0x7f3b72a6e410>\n",
            "<Element 'character' at 0x7f3b729be170>\n",
            "<Element 'character' at 0x7f3b729be0b0>\n",
            "<Element 'character' at 0x7f3b729be110>\n",
            "<Element 'character' at 0x7f3b729be050>\n",
            "[('MONOKRAFT', array([[  0, 148],\n",
            "       [627, 290]])), ('HANDICRAFT', array([[137, 233],\n",
            "       [514, 290]]))]\n"
          ]
        }
      ]
    },
    {
      "cell_type": "markdown",
      "source": [
        "## CTW 1500"
      ],
      "metadata": {
        "id": "TIzI-h34_Dzx"
      }
    },
    {
      "cell_type": "code",
      "source": [
        "def read_gt_ctw_train(xml_file, scaling_ratio=1):\n",
        "    \"\"\"\n",
        "    SCUT-CTW1500 dataset (XML - train labels parser)\n",
        "    Returns ground truth in a tuple - first contains coordinates (8 numbers), second word (string).\n",
        "    If image was previously scaled, one might need to scale also gt coordinates by given ratio.\n",
        "    \"\"\"\n",
        "    gt = []\n",
        "\n",
        "    tree = ET.parse(xml_file)\n",
        "    root = tree.getroot()\n",
        "\n",
        "    # get values in this order: height, left coordinate, top coordinate, width\n",
        "    for i, bbox in enumerate(root[0].findall('box')):\n",
        "        # from dict.values to list of integers\n",
        "        bbox_integer = [int(val) for key, val in sorted(bbox.attrib.items(), key = lambda el: el[0])]\n",
        "        \n",
        "        # calculate bottom coordinate of bounding rectangle x+width, y+height\n",
        "        x_right= int((bbox_integer[1] + bbox_integer[3]) * scaling_ratio)\n",
        "        y_bottom = int((bbox_integer[2] + bbox_integer[0]) * scaling_ratio)\n",
        "        x_left = int(bbox_integer[1] * scaling_ratio)\n",
        "        y_top = int(bbox_integer[2] * scaling_ratio)\n",
        "\n",
        "        bbox_coords = np.array([[x_left, y_top], [x_right, y_bottom]])\n",
        "\n",
        "        # get label\n",
        "        label = root[0][i].find('label').text\n",
        "\n",
        "        # create list of labels and corresponding boundin boxes\n",
        "        gt.append((label, bbox_coords))\n",
        "\n",
        "    return gt\n",
        "    "
      ],
      "metadata": {
        "id": "1NhTAr7r_GF6"
      },
      "execution_count": null,
      "outputs": []
    },
    {
      "cell_type": "code",
      "source": [
        "def read_gt_ctw_test(data, scaling_ratio=1):\n",
        "    \"\"\"\n",
        "    SCUT-CTW1500 dataset (test labels parser)\n",
        "    \"\"\"\n",
        "    # one line = one bounding polygon : list of coordinates, each separated by commas, last is the text inside \n",
        "    # there are #### before each text, two additional ## no text recognized\n",
        "\n",
        "\n",
        "    annotations = []\n",
        "    with open(data, \"r\") as file:\n",
        "        for line in file:\n",
        "            line = line.rstrip('\\n')\n",
        "            text = line.split(\"####\")\n",
        "            label = text[-1]\n",
        "            coordinates = text[0].split(\",\")[:-1]\n",
        "            c = [int(i) for i in coordinates]\n",
        "            minX = min(c[::2])*scaling_ratio\n",
        "            maxX = max(c[::2])*scaling_ratio\n",
        "            minY = min(c[1::2])*scaling_ratio\n",
        "            maxY = max(c[1::2])*scaling_ratio\n",
        "\n",
        "            bbox_coords = np.array( [[minX, minY], [maxX, maxY]] )\n",
        "            annotations.append((label, bbox_coords))\n",
        "\n",
        "    return annotations"
      ],
      "metadata": {
        "id": "3cepcrNVnn1U"
      },
      "execution_count": null,
      "outputs": []
    }
  ]
}