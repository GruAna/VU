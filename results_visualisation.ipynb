{
  "nbformat": 4,
  "nbformat_minor": 0,
  "metadata": {
    "colab": {
      "name": "results_visualisation.ipynb",
      "provenance": [],
      "authorship_tag": "ABX9TyOaLyLyaOd2J5DqVh/TSTPR",
      "include_colab_link": true
    },
    "kernelspec": {
      "name": "python3",
      "display_name": "Python 3"
    },
    "language_info": {
      "name": "python"
    }
  },
  "cells": [
    {
      "cell_type": "markdown",
      "metadata": {
        "id": "view-in-github",
        "colab_type": "text"
      },
      "source": [
        "<a href=\"https://colab.research.google.com/github/GruAna/VU/blob/master/results_visualisation.ipynb\" target=\"_parent\"><img src=\"https://colab.research.google.com/assets/colab-badge.svg\" alt=\"Open In Colab\"/></a>"
      ]
    },
    {
      "cell_type": "markdown",
      "source": [
        "## Text detection and recognition\n",
        "### Results visualisation"
      ],
      "metadata": {
        "id": "X6Ikse8LhWsM"
      }
    },
    {
      "cell_type": "code",
      "execution_count": null,
      "metadata": {
        "id": "9iIVwVQZhRrg"
      },
      "outputs": [],
      "source": [
        "import os\n",
        "import re\n",
        "import matplotlib\n",
        "import matplotlib.pyplot as plt\n",
        "import matplotlib.ticker as mtick\n",
        "import numpy as np"
      ]
    },
    {
      "cell_type": "code",
      "source": [
        "from google.colab import drive\n",
        "drive.mount('/content/drive')"
      ],
      "metadata": {
        "colab": {
          "base_uri": "https://localhost:8080/"
        },
        "id": "PT9_CCKWjOhz",
        "outputId": "17ae800d-ece0-49fd-dedf-ee0e90e70c74"
      },
      "execution_count": null,
      "outputs": [
        {
          "output_type": "stream",
          "name": "stdout",
          "text": [
            "Drive already mounted at /content/drive; to attempt to forcibly remount, call drive.mount(\"/content/drive\", force_remount=True).\n"
          ]
        }
      ]
    },
    {
      "cell_type": "code",
      "source": [
        "# list files with results\n",
        "\n",
        "results_dir = '/content/drive/MyDrive/Colab_Notebooks/VU/results/'\n",
        "(_, _, filenames) = next(os.walk(results_dir))\n",
        "filenames = [ file for file in filenames if file.endswith(\".txt\") ]\n",
        "\n",
        "filenames.sort()\n",
        "list_result_paths = [os.path.join(results_dir, file) for file in filenames]"
      ],
      "metadata": {
        "id": "JXc8xGJNhdpe"
      },
      "execution_count": null,
      "outputs": []
    },
    {
      "cell_type": "code",
      "source": [
        "results = []\n",
        "\n",
        "# Reading from a file\n",
        "\n",
        "for filename in list_result_paths:\n",
        "    with open(filename, \"r+\") as file:\n",
        "        results.append(re.split(': |\\n| = ', file.read()))\n",
        "\n"
      ],
      "metadata": {
        "id": "Ymwj7YrHjYnA"
      },
      "execution_count": null,
      "outputs": []
    },
    {
      "cell_type": "code",
      "source": [
        "labels = [\" \".join(text[0:2]) for text in results]\n",
        "values = list(zip(*results))\n",
        "iou = [round(float(v),2) for v in values[3]]\n",
        "cer = [round(float(v),2) for v in values[5]]"
      ],
      "metadata": {
        "id": "bXxrYqKrm4Tv"
      },
      "execution_count": null,
      "outputs": []
    },
    {
      "cell_type": "markdown",
      "source": [
        "Plot util functions"
      ],
      "metadata": {
        "id": "jOaRlHWDs4Qi"
      }
    },
    {
      "cell_type": "code",
      "source": [
        "import textwrap\n",
        "def wrap_labels(ax, width, break_long_words=False):\n",
        "    labels = []\n",
        "    for label in ax.get_xticklabels():\n",
        "        text = label.get_text()\n",
        "        labels.append(textwrap.fill(text, width=width,\n",
        "                      break_long_words=break_long_words))\n",
        "    ax.set_xticklabels(labels, rotation=0)\n",
        "\n",
        "def autolabel(rects):\n",
        "    \"\"\"\n",
        "    Attach a text label above each bar in *rects*, displaying its height.\n",
        "    \"\"\"\n",
        "    for rect in rects:\n",
        "        height = rect.get_height()\n",
        "        ax.annotate('{}'.format(height),\n",
        "                    xy=(rect.get_x() + rect.get_width() / 2, height),\n",
        "                    xytext=(0, 3),  # 3 points vertical offset\n",
        "                    textcoords=\"offset points\",\n",
        "                    ha='center', va='bottom')"
      ],
      "metadata": {
        "id": "CqCmGtU5q3Pr"
      },
      "execution_count": null,
      "outputs": []
    },
    {
      "cell_type": "code",
      "source": [
        "x = np.arange(len(labels))  # the label locations\n",
        "width = 0.35  # the width of the bars\n",
        "\n",
        "fig, ax = plt.subplots(1,1,figsize=(10, 5))\n",
        "rects1 = ax.bar(x - width/2, iou, width, label='iou')\n",
        "rects2 = ax.bar(x + width/2, cer, width, label='cer')\n",
        "\n",
        "ax.set_ylabel('Accuracy')\n",
        "ax.set_title('Results')\n",
        "ax.set_xticks(x)\n",
        "\n",
        "ax.set_ylim([0, 100])\n",
        "ax.set_xticklabels(labels)\n",
        "wrap_labels(ax, 15)\n",
        "\n",
        "ax.legend()\n",
        "fig.tight_layout()\n",
        "autolabel(rects1)\n",
        "autolabel(rects2)\n",
        "\n",
        "plt.show()"
      ],
      "metadata": {
        "colab": {
          "base_uri": "https://localhost:8080/",
          "height": 368
        },
        "id": "ltQ24g-pj8Gw",
        "outputId": "a06c6741-3d63-4b8c-ce9c-6505d7e5e57d"
      },
      "execution_count": null,
      "outputs": [
        {
          "output_type": "display_data",
          "data": {
            "text/plain": [
              "<Figure size 720x360 with 1 Axes>"
            ],
            "image/png": "[encoded data removed]"
          },
          "metadata": {
            "needs_background": "light"
          }
        }
      ]
    },
    {
      "cell_type": "code",
      "source": [
        ""
      ],
      "metadata": {
        "id": "Mm9iUgsonkeU"
      },
      "execution_count": null,
      "outputs": []
    }
  ]
}