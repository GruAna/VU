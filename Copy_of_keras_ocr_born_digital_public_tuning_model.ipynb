{
  "nbformat": 4,
  "nbformat_minor": 0,
  "metadata": {
    "accelerator": "GPU",
    "colab": {
      "name": "Copy of keras_ocr_born_digital_public_tuning_model.ipynb",
      "provenance": [],
      "collapsed_sections": [],
      "machine_shape": "hm",
      "include_colab_link": true
    },
    "kernelspec": {
      "name": "python3",
      "display_name": "Python 3"
    },
    "language_info": {
      "codemirror_mode": {
        "name": "ipython",
        "version": 3
      },
      "file_extension": ".py",
      "mimetype": "text/x-python",
      "name": "python",
      "nbconvert_exporter": "python",
      "pygments_lexer": "ipython3",
      "version": "3.7.5"
    },
    "gpuClass": "standard"
  },
  "cells": [
    {
      "cell_type": "markdown",
      "metadata": {
        "id": "view-in-github",
        "colab_type": "text"
      },
      "source": [
        "<a href=\"https://colab.research.google.com/github/GruAna/VU/blob/master/Copy_of_keras_ocr_born_digital_public_tuning_model.ipynb\" target=\"_parent\"><img src=\"https://colab.research.google.com/assets/colab-badge.svg\" alt=\"Open In Colab\"/></a>"
      ]
    },
    {
      "cell_type": "markdown",
      "metadata": {
        "id": "jPQEvP0y_d02"
      },
      "source": [
        "# Fine-tuning recognizer with keras-ocr\n",
        "\n",
        "This is an interactive example of the code documented in https://keras-ocr.readthedocs.io/en/latest/examples/fine_tuning_recognizer.html"
      ]
    },
    {
      "cell_type": "code",
      "metadata": {
        "id": "9kuzOODGiZdq",
        "colab": {
          "base_uri": "https://localhost:8080/",
          "height": 1000
        },
        "outputId": "9379add9-2881-4ce3-a6db-e9d780f24c77"
      },
      "source": [
        "!pip install -U git+https://github.com/faustomorales/keras-ocr.git#egg=keras-ocr\n",
        "!pip install imgaug==0.2.9\n",
        "!pip install -U opencv-python # We need the most recent version of OpenCV.\n",
        "%tensorflow_version 2.x"
      ],
      "execution_count": 6,
      "outputs": [
        {
          "output_type": "stream",
          "name": "stdout",
          "text": [
            "Looking in indexes: https://pypi.org/simple, https://us-python.pkg.dev/colab-wheels/public/simple/\n",
            "Collecting keras-ocr\n",
            "  Cloning https://github.com/faustomorales/keras-ocr.git to /tmp/pip-install-erduwjrp/keras-ocr_4c7e945168be41fbab1bbb56d6eaebb1\n",
            "  Running command git clone -q https://github.com/faustomorales/keras-ocr.git /tmp/pip-install-erduwjrp/keras-ocr_4c7e945168be41fbab1bbb56d6eaebb1\n",
            "  Installing build dependencies ... \u001b[?25l\u001b[?25hdone\n",
            "  Getting requirements to build wheel ... \u001b[?25l\u001b[?25hdone\n",
            "    Preparing wheel metadata ... \u001b[?25l\u001b[?25hdone\n",
            "Requirement already satisfied: fonttools in /usr/local/lib/python3.7/dist-packages (from keras-ocr) (4.33.3)\n",
            "Requirement already satisfied: imgaug in /usr/local/lib/python3.7/dist-packages (from keras-ocr) (0.2.5)\n",
            "Requirement already satisfied: editdistance in /usr/local/lib/python3.7/dist-packages (from keras-ocr) (0.5.3)\n",
            "Requirement already satisfied: validators in /usr/local/lib/python3.7/dist-packages (from keras-ocr) (0.20.0)\n",
            "Requirement already satisfied: essential_generators in /usr/local/lib/python3.7/dist-packages (from keras-ocr) (1.0)\n",
            "Requirement already satisfied: efficientnet==1.0.0 in /usr/local/lib/python3.7/dist-packages (from keras-ocr) (1.0.0)\n",
            "Requirement already satisfied: pyclipper in /usr/local/lib/python3.7/dist-packages (from keras-ocr) (1.3.0.post3)\n",
            "Requirement already satisfied: tqdm in /usr/local/lib/python3.7/dist-packages (from keras-ocr) (4.64.0)\n",
            "Requirement already satisfied: shapely in /usr/local/lib/python3.7/dist-packages (from keras-ocr) (1.8.2)\n",
            "Requirement already satisfied: keras-applications<=1.0.8,>=1.0.7 in /usr/local/lib/python3.7/dist-packages (from efficientnet==1.0.0->keras-ocr) (1.0.8)\n",
            "Requirement already satisfied: scikit-image in /usr/local/lib/python3.7/dist-packages (from efficientnet==1.0.0->keras-ocr) (0.18.3)\n",
            "Requirement already satisfied: numpy>=1.9.1 in /usr/local/lib/python3.7/dist-packages (from keras-applications<=1.0.8,>=1.0.7->efficientnet==1.0.0->keras-ocr) (1.21.6)\n",
            "Requirement already satisfied: h5py in /usr/local/lib/python3.7/dist-packages (from keras-applications<=1.0.8,>=1.0.7->efficientnet==1.0.0->keras-ocr) (3.1.0)\n",
            "Requirement already satisfied: cached-property in /usr/local/lib/python3.7/dist-packages (from h5py->keras-applications<=1.0.8,>=1.0.7->efficientnet==1.0.0->keras-ocr) (1.5.2)\n",
            "Requirement already satisfied: six in /usr/local/lib/python3.7/dist-packages (from imgaug->keras-ocr) (1.15.0)\n",
            "Requirement already satisfied: scipy in /usr/local/lib/python3.7/dist-packages (from imgaug->keras-ocr) (1.4.1)\n",
            "Requirement already satisfied: tifffile>=2019.7.26 in /usr/local/lib/python3.7/dist-packages (from scikit-image->efficientnet==1.0.0->keras-ocr) (2021.11.2)\n",
            "Requirement already satisfied: networkx>=2.0 in /usr/local/lib/python3.7/dist-packages (from scikit-image->efficientnet==1.0.0->keras-ocr) (2.6.3)\n",
            "Requirement already satisfied: PyWavelets>=1.1.1 in /usr/local/lib/python3.7/dist-packages (from scikit-image->efficientnet==1.0.0->keras-ocr) (1.3.0)\n",
            "Requirement already satisfied: imageio>=2.3.0 in /usr/local/lib/python3.7/dist-packages (from scikit-image->efficientnet==1.0.0->keras-ocr) (2.4.1)\n",
            "Requirement already satisfied: pillow!=7.1.0,!=7.1.1,>=4.3.0 in /usr/local/lib/python3.7/dist-packages (from scikit-image->efficientnet==1.0.0->keras-ocr) (7.1.2)\n",
            "Requirement already satisfied: matplotlib!=3.0.0,>=2.0.0 in /usr/local/lib/python3.7/dist-packages (from scikit-image->efficientnet==1.0.0->keras-ocr) (3.2.2)\n",
            "Requirement already satisfied: python-dateutil>=2.1 in /usr/local/lib/python3.7/dist-packages (from matplotlib!=3.0.0,>=2.0.0->scikit-image->efficientnet==1.0.0->keras-ocr) (2.8.2)\n",
            "Requirement already satisfied: pyparsing!=2.0.4,!=2.1.2,!=2.1.6,>=2.0.1 in /usr/local/lib/python3.7/dist-packages (from matplotlib!=3.0.0,>=2.0.0->scikit-image->efficientnet==1.0.0->keras-ocr) (3.0.9)\n",
            "Requirement already satisfied: kiwisolver>=1.0.1 in /usr/local/lib/python3.7/dist-packages (from matplotlib!=3.0.0,>=2.0.0->scikit-image->efficientnet==1.0.0->keras-ocr) (1.4.2)\n",
            "Requirement already satisfied: cycler>=0.10 in /usr/local/lib/python3.7/dist-packages (from matplotlib!=3.0.0,>=2.0.0->scikit-image->efficientnet==1.0.0->keras-ocr) (0.11.0)\n",
            "Requirement already satisfied: typing-extensions in /usr/local/lib/python3.7/dist-packages (from kiwisolver>=1.0.1->matplotlib!=3.0.0,>=2.0.0->scikit-image->efficientnet==1.0.0->keras-ocr) (4.2.0)\n",
            "Requirement already satisfied: decorator>=3.4.0 in /usr/local/lib/python3.7/dist-packages (from validators->keras-ocr) (4.4.2)\n",
            "Looking in indexes: https://pypi.org/simple, https://us-python.pkg.dev/colab-wheels/public/simple/\n",
            "Collecting imgaug==0.2.9\n",
            "  Downloading imgaug-0.2.9-py2.py3-none-any.whl (753 kB)\n",
            "\u001b[K     |████████████████████████████████| 753 kB 5.2 MB/s \n",
            "\u001b[?25hRequirement already satisfied: scipy in /usr/local/lib/python3.7/dist-packages (from imgaug==0.2.9) (1.4.1)\n",
            "Requirement already satisfied: scikit-image>=0.11.0 in /usr/local/lib/python3.7/dist-packages (from imgaug==0.2.9) (0.18.3)\n",
            "Requirement already satisfied: matplotlib in /usr/local/lib/python3.7/dist-packages (from imgaug==0.2.9) (3.2.2)\n",
            "Requirement already satisfied: Pillow in /usr/local/lib/python3.7/dist-packages (from imgaug==0.2.9) (7.1.2)\n",
            "Requirement already satisfied: imageio in /usr/local/lib/python3.7/dist-packages (from imgaug==0.2.9) (2.4.1)\n",
            "Requirement already satisfied: numpy>=1.15.0 in /usr/local/lib/python3.7/dist-packages (from imgaug==0.2.9) (1.21.6)\n",
            "Requirement already satisfied: opencv-python in /usr/local/lib/python3.7/dist-packages (from imgaug==0.2.9) (4.6.0.66)\n",
            "Requirement already satisfied: Shapely in /usr/local/lib/python3.7/dist-packages (from imgaug==0.2.9) (1.8.2)\n",
            "Requirement already satisfied: six in /usr/local/lib/python3.7/dist-packages (from imgaug==0.2.9) (1.15.0)\n",
            "Requirement already satisfied: tifffile>=2019.7.26 in /usr/local/lib/python3.7/dist-packages (from scikit-image>=0.11.0->imgaug==0.2.9) (2021.11.2)\n",
            "Requirement already satisfied: networkx>=2.0 in /usr/local/lib/python3.7/dist-packages (from scikit-image>=0.11.0->imgaug==0.2.9) (2.6.3)\n",
            "Requirement already satisfied: PyWavelets>=1.1.1 in /usr/local/lib/python3.7/dist-packages (from scikit-image>=0.11.0->imgaug==0.2.9) (1.3.0)\n",
            "Requirement already satisfied: kiwisolver>=1.0.1 in /usr/local/lib/python3.7/dist-packages (from matplotlib->imgaug==0.2.9) (1.4.2)\n",
            "Requirement already satisfied: python-dateutil>=2.1 in /usr/local/lib/python3.7/dist-packages (from matplotlib->imgaug==0.2.9) (2.8.2)\n",
            "Requirement already satisfied: pyparsing!=2.0.4,!=2.1.2,!=2.1.6,>=2.0.1 in /usr/local/lib/python3.7/dist-packages (from matplotlib->imgaug==0.2.9) (3.0.9)\n",
            "Requirement already satisfied: cycler>=0.10 in /usr/local/lib/python3.7/dist-packages (from matplotlib->imgaug==0.2.9) (0.11.0)\n",
            "Requirement already satisfied: typing-extensions in /usr/local/lib/python3.7/dist-packages (from kiwisolver>=1.0.1->matplotlib->imgaug==0.2.9) (4.2.0)\n",
            "Installing collected packages: imgaug\n",
            "  Attempting uninstall: imgaug\n",
            "    Found existing installation: imgaug 0.2.5\n",
            "    Uninstalling imgaug-0.2.5:\n",
            "      Successfully uninstalled imgaug-0.2.5\n",
            "\u001b[31mERROR: pip's dependency resolver does not currently take into account all the packages that are installed. This behaviour is the source of the following dependency conflicts.\n",
            "albumentations 0.1.12 requires imgaug<0.2.7,>=0.2.5, but you have imgaug 0.2.9 which is incompatible.\u001b[0m\n",
            "Successfully installed imgaug-0.2.9\n"
          ]
        },
        {
          "output_type": "display_data",
          "data": {
            "application/vnd.colab-display-data+json": {
              "pip_warning": {
                "packages": [
                  "imgaug"
                ]
              }
            }
          },
          "metadata": {}
        },
        {
          "output_type": "stream",
          "name": "stdout",
          "text": [
            "Looking in indexes: https://pypi.org/simple, https://us-python.pkg.dev/colab-wheels/public/simple/\n",
            "Requirement already satisfied: opencv-python in /usr/local/lib/python3.7/dist-packages (4.6.0.66)\n",
            "Requirement already satisfied: numpy>=1.14.5 in /usr/local/lib/python3.7/dist-packages (from opencv-python) (1.21.6)\n"
          ]
        }
      ]
    },
    {
      "cell_type": "markdown",
      "metadata": {
        "id": "pSWr6nzC_heY"
      },
      "source": [
        "This example shows how to fine-tune the recognizer using an existing dataset. In this case,\n",
        "we will use the \"Born Digital\" dataset from https://rrc.cvc.uab.es/?ch=1&com=downloads\n",
        "\n",
        "First, we download our dataset. Below we get both the training and test datasets, but\n",
        "we only use the training dataset. The training dataset consists of a single folder\n",
        "containing images, each of which has a single word in it. The labels are in a text\n",
        "file called `gt.txt`."
      ]
    },
    {
      "cell_type": "code",
      "metadata": {
        "id": "1fCivLsTi8qA",
        "colab": {
          "base_uri": "https://localhost:8080/"
        },
        "outputId": "ca7e51e8-4920-431b-fdb6-189b4eb9adb2"
      },
      "source": [
        "import random\n",
        "import string\n",
        "import math\n",
        "import itertools\n",
        "import os\n",
        "\n",
        "import numpy as np\n",
        "import imgaug\n",
        "import matplotlib.pyplot as plt\n",
        "import tensorflow as tf\n",
        "import sklearn.model_selection\n",
        "\n",
        "import keras_ocr\n",
        "\n",
        "assert tf.test.is_gpu_available()\n",
        "\n",
        "train_labels = keras_ocr.datasets.get_born_digital_recognizer_dataset(\n",
        "    split='train',\n",
        "    cache_dir='.'\n",
        ")\n",
        "test_labels = keras_ocr.datasets.get_born_digital_recognizer_dataset(\n",
        "    split='test',\n",
        "    cache_dir='.'\n",
        ")\n",
        "train_labels = [(filepath, box, word.lower()) for filepath, box, word in train_labels]\n",
        "test_labels = [(filepath, box, word.lower()) for filepath, box, word in train_labels]"
      ],
      "execution_count": 1,
      "outputs": [
        {
          "output_type": "stream",
          "name": "stdout",
          "text": [
            "WARNING:tensorflow:From <ipython-input-1-8c9748481589>:15: is_gpu_available (from tensorflow.python.framework.test_util) is deprecated and will be removed in a future version.\n",
            "Instructions for updating:\n",
            "Use `tf.config.list_physical_devices('GPU')` instead.\n",
            "Looking for ./borndigital/Challenge1_Training_Task3_Images_GT.zip\n",
            "Looking for ./borndigital/Challenge1_Test_Task3_Images.zip\n",
            "Looking for ./borndigital/test/Challenge1_Test_Task3_GT.txt\n"
          ]
        }
      ]
    },
    {
      "cell_type": "markdown",
      "metadata": {
        "id": "2vENhyWB_tWw"
      },
      "source": [
        "We next build our recognizer, using the default options to get a pretrained model."
      ]
    },
    {
      "cell_type": "code",
      "metadata": {
        "id": "wbZicDRHjKCe",
        "outputId": "b282b8f6-3c3b-4ede-9f30-9d0b529d9b4a",
        "colab": {
          "base_uri": "https://localhost:8080/"
        }
      },
      "source": [
        "recognizer = keras_ocr.recognition.Recognizer()\n",
        "recognizer.compile()"
      ],
      "execution_count": 2,
      "outputs": [
        {
          "output_type": "stream",
          "name": "stdout",
          "text": [
            "Looking for /root/.keras-ocr/crnn_kurapan.h5\n"
          ]
        }
      ]
    },
    {
      "cell_type": "markdown",
      "metadata": {
        "id": "CNAYeoVC_xXo"
      },
      "source": [
        "We need to convert our dataset into the format that :code:`keras-ocr` requires. To \n",
        "do that, we have the following, which includes support for an augmenter to\n",
        "generate synthetically altered samples. Note that this code is set up to skip\n",
        "any characters that are not in the recognizer alphabet and that all labels\n",
        "are first converted to lowercase.\n"
      ]
    },
    {
      "cell_type": "code",
      "metadata": {
        "id": "XoMz6FAkjr13"
      },
      "source": [
        "batch_size = 8\n",
        "augmenter = imgaug.augmenters.Sequential([\n",
        "    imgaug.augmenters.GammaContrast(gamma=(0.25, 3.0)),\n",
        "])\n",
        "\n",
        "train_labels, validation_labels = sklearn.model_selection.train_test_split(train_labels, test_size=0.2, random_state=42)\n",
        "(training_image_gen, training_steps), (validation_image_gen, validation_steps) = [\n",
        "    (\n",
        "        keras_ocr.datasets.get_recognizer_image_generator(\n",
        "            labels=labels,\n",
        "            height=recognizer.model.input_shape[1],\n",
        "            width=recognizer.model.input_shape[2],\n",
        "            alphabet=recognizer.alphabet,\n",
        "            augmenter=augmenter\n",
        "        ),\n",
        "        len(labels) // batch_size\n",
        "    ) for labels, augmenter in [(train_labels, augmenter), (validation_labels, None)]     \n",
        "]\n",
        "training_gen, validation_gen = [\n",
        "    recognizer.get_batch_generator(\n",
        "        image_generator=image_generator,\n",
        "        batch_size=batch_size\n",
        "    )\n",
        "    for image_generator in [training_image_gen, validation_image_gen]\n",
        "]"
      ],
      "execution_count": 3,
      "outputs": []
    },
    {
      "cell_type": "markdown",
      "metadata": {
        "id": "jKG7BB_4_2tI"
      },
      "source": [
        "As a sanity check, we show one of the samples."
      ]
    },
    {
      "cell_type": "code",
      "metadata": {
        "id": "z2eHTeZW-lFt",
        "outputId": "34722e74-8a26-4bb3-9cf4-385ac626bfb4",
        "colab": {
          "base_uri": "https://localhost:8080/",
          "height": 138
        }
      },
      "source": [
        "image, text = next(training_image_gen)\n",
        "print('text:', text)\n",
        "_ = plt.imshow(image)"
      ],
      "execution_count": 4,
      "outputs": [
        {
          "output_type": "stream",
          "name": "stdout",
          "text": [
            "482 / 2853 instances have illegal characters.\n",
            "text: alfa\n"
          ]
        },
        {
          "output_type": "display_data",
          "data": {
            "text/plain": [
              "<Figure size 432x288 with 1 Axes>"
            ],
            "image/png": "[encoded data removed]"
          },
          "metadata": {
            "needs_background": "light"
          }
        }
      ]
    },
    {
      "cell_type": "markdown",
      "metadata": {
        "id": "z_xEBogs_4cK"
      },
      "source": [
        "\n",
        "Now we can run training."
      ]
    },
    {
      "cell_type": "code",
      "metadata": {
        "id": "bwfxrcKFjtxi",
        "colab": {
          "base_uri": "https://localhost:8080/"
        },
        "outputId": "ae55b3f1-cabc-4e11-cf0e-e4ef4339b5df"
      },
      "source": [
        "callbacks = [\n",
        "    tf.keras.callbacks.EarlyStopping(monitor='val_loss', min_delta=0, patience=20, restore_best_weights=False),\n",
        "    tf.keras.callbacks.ModelCheckpoint('recognizer_borndigital.h5', monitor='val_loss', save_best_only=True),\n",
        "    tf.keras.callbacks.CSVLogger('recognizer_borndigital.csv')\n",
        "]\n",
        "recognizer.training_model.fit_generator(\n",
        "    generator=training_gen,\n",
        "    steps_per_epoch=training_steps,\n",
        "    validation_steps=validation_steps,\n",
        "    validation_data=validation_gen,\n",
        "    callbacks=callbacks,\n",
        "    epochs=100,\n",
        ")"
      ],
      "execution_count": 10,
      "outputs": [
        {
          "output_type": "stream",
          "name": "stdout",
          "text": [
            "Epoch 1/100\n",
            "  1/356 [..............................] - ETA: 47s - loss: 0.0306"
          ]
        },
        {
          "output_type": "stream",
          "name": "stderr",
          "text": [
            "/usr/local/lib/python3.7/dist-packages/ipykernel_launcher.py:12: UserWarning: `Model.fit_generator` is deprecated and will be removed in a future version. Please use `Model.fit`, which supports generators.\n",
            "  if sys.path[0] == '':\n"
          ]
        },
        {
          "output_type": "stream",
          "name": "stdout",
          "text": [
            "356/356 [==============================] - 34s 95ms/step - loss: 0.6493 - val_loss: 1.5559\n",
            "Epoch 2/100\n",
            "356/356 [==============================] - 34s 95ms/step - loss: 0.6740 - val_loss: 1.7589\n",
            "Epoch 3/100\n",
            "356/356 [==============================] - 33s 93ms/step - loss: 0.5689 - val_loss: 1.8343\n",
            "Epoch 4/100\n",
            "356/356 [==============================] - 33s 94ms/step - loss: 0.5525 - val_loss: 1.6029\n",
            "Epoch 5/100\n",
            "356/356 [==============================] - 33s 94ms/step - loss: 0.5290 - val_loss: 2.4608\n",
            "Epoch 6/100\n",
            "356/356 [==============================] - 33s 94ms/step - loss: 0.5096 - val_loss: 2.3270\n",
            "Epoch 7/100\n",
            "356/356 [==============================] - 33s 93ms/step - loss: 0.4947 - val_loss: 1.6586\n",
            "Epoch 8/100\n",
            "356/356 [==============================] - 33s 93ms/step - loss: 0.4097 - val_loss: 1.8265\n",
            "Epoch 9/100\n",
            "356/356 [==============================] - 33s 94ms/step - loss: 0.3557 - val_loss: 2.1363\n",
            "Epoch 10/100\n",
            "356/356 [==============================] - 33s 94ms/step - loss: 0.4058 - val_loss: 1.8540\n",
            "Epoch 11/100\n",
            "356/356 [==============================] - 33s 93ms/step - loss: 0.3105 - val_loss: 1.9684\n",
            "Epoch 12/100\n",
            "356/356 [==============================] - 33s 93ms/step - loss: 0.3015 - val_loss: 2.0375\n",
            "Epoch 13/100\n",
            "356/356 [==============================] - 33s 93ms/step - loss: 0.3046 - val_loss: 1.8146\n",
            "Epoch 14/100\n",
            "356/356 [==============================] - 33s 94ms/step - loss: 0.2936 - val_loss: 1.9222\n",
            "Epoch 15/100\n",
            "356/356 [==============================] - 33s 93ms/step - loss: 0.2709 - val_loss: 2.1792\n",
            "Epoch 16/100\n",
            "356/356 [==============================] - 33s 94ms/step - loss: 0.2568 - val_loss: 2.1679\n",
            "Epoch 17/100\n",
            "356/356 [==============================] - 33s 93ms/step - loss: 0.2210 - val_loss: 2.3251\n",
            "Epoch 18/100\n",
            "356/356 [==============================] - 34s 95ms/step - loss: 0.2929 - val_loss: 2.0874\n",
            "Epoch 19/100\n",
            "356/356 [==============================] - 33s 93ms/step - loss: 0.2560 - val_loss: 2.0319\n",
            "Epoch 20/100\n",
            "356/356 [==============================] - 33s 94ms/step - loss: 0.2418 - val_loss: 2.1558\n",
            "Epoch 21/100\n",
            "356/356 [==============================] - 34s 94ms/step - loss: 0.2369 - val_loss: 2.1872\n"
          ]
        },
        {
          "output_type": "execute_result",
          "data": {
            "text/plain": [
              "<keras.callbacks.History at 0x7efcfcd14ed0>"
            ]
          },
          "metadata": {},
          "execution_count": 10
        }
      ]
    },
    {
      "cell_type": "markdown",
      "metadata": {
        "id": "PPGLJuLg_6iF"
      },
      "source": [
        "Finally, run inference on a test sample."
      ]
    },
    {
      "cell_type": "code",
      "metadata": {
        "id": "nRNPIzN7kdvY",
        "outputId": "3808f79a-3941-467a-d4d1-2898415ebd01",
        "colab": {
          "base_uri": "https://localhost:8080/",
          "height": 236
        }
      },
      "source": [
        "image_filepath, _, actual = test_labels[1]\n",
        "predicted = recognizer.recognize(image_filepath)\n",
        "print(f'Predicted: {predicted}, Actual: {actual}')\n",
        "_ = plt.imshow(keras_ocr.tools.read(image_filepath))"
      ],
      "execution_count": 7,
      "outputs": [
        {
          "output_type": "stream",
          "name": "stdout",
          "text": [
            "Predicted: today, Actual: today\n"
          ]
        },
        {
          "output_type": "display_data",
          "data": {
            "text/plain": [
              "<Figure size 432x288 with 1 Axes>"
            ],
            "image/png": "[encoded data removed]"
          },
          "metadata": {
            "needs_background": "light"
          }
        }
      ]
    },
    {
      "cell_type": "code",
      "source": [
        "recognizer.model.load_weights('recognizer_borndigital.h5')"
      ],
      "metadata": {
        "id": "-rNUnyVXQ1Gx"
      },
      "execution_count": 8,
      "outputs": []
    },
    {
      "cell_type": "code",
      "source": [
        "image_filepath, _, actual = test_labels[1]\n",
        "predicted = recognizer.recognize(image_filepath)\n",
        "print(f'Predicted: {predicted}, Actual: {actual}')\n",
        "_ = plt.imshow(keras_ocr.tools.read(image_filepath))"
      ],
      "metadata": {
        "colab": {
          "base_uri": "https://localhost:8080/",
          "height": 236
        },
        "id": "nlsVt3sjRSUK",
        "outputId": "df52bcff-035d-4fdd-d4a2-4fd6ca7de964"
      },
      "execution_count": 9,
      "outputs": [
        {
          "output_type": "stream",
          "name": "stdout",
          "text": [
            "Predicted: today, Actual: today\n"
          ]
        },
        {
          "output_type": "display_data",
          "data": {
            "text/plain": [
              "<Figure size 432x288 with 1 Axes>"
            ],
            "image/png": "[encoded data removed]"
          },
          "metadata": {
            "needs_background": "light"
          }
        }
      ]
    },
    {
      "cell_type": "code",
      "source": [
        ""
      ],
      "metadata": {
        "id": "Qa1YlkrqRUoa"
      },
      "execution_count": null,
      "outputs": []
    }
  ]
}