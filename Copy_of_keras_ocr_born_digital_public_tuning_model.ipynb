{
  "nbformat": 4,
  "nbformat_minor": 0,
  "metadata": {
    "accelerator": "GPU",
    "colab": {
      "name": "Copy of keras_ocr_born_digital_public_tuning_model.ipynb",
      "provenance": [],
      "collapsed_sections": [],
      "machine_shape": "hm",
      "include_colab_link": true
    },
    "kernelspec": {
      "name": "python3",
      "display_name": "Python 3"
    },
    "language_info": {
      "codemirror_mode": {
        "name": "ipython",
        "version": 3
      },
      "file_extension": ".py",
      "mimetype": "text/x-python",
      "name": "python",
      "nbconvert_exporter": "python",
      "pygments_lexer": "ipython3",
      "version": "3.7.5"
    },
    "gpuClass": "standard"
  },
  "cells": [
    {
      "cell_type": "markdown",
      "metadata": {
        "id": "view-in-github",
        "colab_type": "text"
      },
      "source": [
        "<a href=\"https://colab.research.google.com/github/GruAna/VU/blob/master/Copy_of_keras_ocr_born_digital_public_tuning_model.ipynb\" target=\"_parent\"><img src=\"https://colab.research.google.com/assets/colab-badge.svg\" alt=\"Open In Colab\"/></a>"
      ]
    },
    {
      "cell_type": "markdown",
      "metadata": {
        "id": "jPQEvP0y_d02"
      },
      "source": [
        "# Fine-tuning recognizer with keras-ocr\n",
        "\n",
        "This is an interactive example of the code documented in https://keras-ocr.readthedocs.io/en/latest/examples/fine_tuning_recognizer.html"
      ]
    },
    {
      "cell_type": "code",
      "metadata": {
        "id": "9kuzOODGiZdq",
        "colab": {
          "base_uri": "https://localhost:8080/"
        },
        "outputId": "7e3d078b-cf5b-4b87-d30f-4634bb1591d0"
      },
      "source": [
        "!pip install -U git+https://github.com/faustomorales/keras-ocr.git#egg=keras-ocr\n",
        "!pip install imgaug==0.2.9\n",
        "!pip install -U opencv-python # We need the most recent version of OpenCV.\n",
        "%tensorflow_version 2.x"
      ],
      "execution_count": 1,
      "outputs": [
        {
          "output_type": "stream",
          "name": "stdout",
          "text": [
            "Looking in indexes: https://pypi.org/simple, https://us-python.pkg.dev/colab-wheels/public/simple/\n",
            "Collecting keras-ocr\n",
            "  Cloning https://github.com/faustomorales/keras-ocr.git to /tmp/pip-install-oe9yo_5i/keras-ocr_6429fc9108574f44bdda44d76d7edad3\n",
            "  Running command git clone -q https://github.com/faustomorales/keras-ocr.git /tmp/pip-install-oe9yo_5i/keras-ocr_6429fc9108574f44bdda44d76d7edad3\n",
            "  Installing build dependencies ... \u001b[?25l\u001b[?25hdone\n",
            "  Getting requirements to build wheel ... \u001b[?25l\u001b[?25hdone\n",
            "    Preparing wheel metadata ... \u001b[?25l\u001b[?25hdone\n",
            "Collecting pyclipper\n",
            "  Downloading pyclipper-1.3.0.post3-cp37-cp37m-manylinux_2_5_x86_64.manylinux1_x86_64.whl (604 kB)\n",
            "\u001b[K     |████████████████████████████████| 604 kB 29.0 MB/s \n",
            "\u001b[?25hCollecting fonttools\n",
            "  Downloading fonttools-4.33.3-py3-none-any.whl (930 kB)\n",
            "\u001b[K     |████████████████████████████████| 930 kB 62.4 MB/s \n",
            "\u001b[?25hCollecting efficientnet==1.0.0\n",
            "  Downloading efficientnet-1.0.0-py3-none-any.whl (17 kB)\n",
            "Requirement already satisfied: tqdm in /usr/local/lib/python3.7/dist-packages (from keras-ocr) (4.64.0)\n",
            "Requirement already satisfied: imgaug in /usr/local/lib/python3.7/dist-packages (from keras-ocr) (0.2.9)\n",
            "Requirement already satisfied: shapely in /usr/local/lib/python3.7/dist-packages (from keras-ocr) (1.8.2)\n",
            "Requirement already satisfied: editdistance in /usr/local/lib/python3.7/dist-packages (from keras-ocr) (0.5.3)\n",
            "Collecting validators\n",
            "  Downloading validators-0.20.0.tar.gz (30 kB)\n",
            "Collecting essential_generators\n",
            "  Downloading essential_generators-1.0-py3-none-any.whl (9.5 MB)\n",
            "\u001b[K     |████████████████████████████████| 9.5 MB 53.6 MB/s \n",
            "\u001b[?25hCollecting keras-applications<=1.0.8,>=1.0.7\n",
            "  Downloading Keras_Applications-1.0.8-py3-none-any.whl (50 kB)\n",
            "\u001b[K     |████████████████████████████████| 50 kB 8.4 MB/s \n",
            "\u001b[?25hRequirement already satisfied: scikit-image in /usr/local/lib/python3.7/dist-packages (from efficientnet==1.0.0->keras-ocr) (0.18.3)\n",
            "Requirement already satisfied: h5py in /usr/local/lib/python3.7/dist-packages (from keras-applications<=1.0.8,>=1.0.7->efficientnet==1.0.0->keras-ocr) (3.1.0)\n",
            "Requirement already satisfied: numpy>=1.9.1 in /usr/local/lib/python3.7/dist-packages (from keras-applications<=1.0.8,>=1.0.7->efficientnet==1.0.0->keras-ocr) (1.21.6)\n",
            "Requirement already satisfied: cached-property in /usr/local/lib/python3.7/dist-packages (from h5py->keras-applications<=1.0.8,>=1.0.7->efficientnet==1.0.0->keras-ocr) (1.5.2)\n",
            "Requirement already satisfied: imageio in /usr/local/lib/python3.7/dist-packages (from imgaug->keras-ocr) (2.4.1)\n",
            "Requirement already satisfied: opencv-python in /usr/local/lib/python3.7/dist-packages (from imgaug->keras-ocr) (4.1.2.30)\n",
            "Requirement already satisfied: six in /usr/local/lib/python3.7/dist-packages (from imgaug->keras-ocr) (1.15.0)\n",
            "Requirement already satisfied: scipy in /usr/local/lib/python3.7/dist-packages (from imgaug->keras-ocr) (1.4.1)\n",
            "Requirement already satisfied: Pillow in /usr/local/lib/python3.7/dist-packages (from imgaug->keras-ocr) (7.1.2)\n",
            "Requirement already satisfied: matplotlib in /usr/local/lib/python3.7/dist-packages (from imgaug->keras-ocr) (3.2.2)\n",
            "Requirement already satisfied: networkx>=2.0 in /usr/local/lib/python3.7/dist-packages (from scikit-image->efficientnet==1.0.0->keras-ocr) (2.6.3)\n",
            "Requirement already satisfied: PyWavelets>=1.1.1 in /usr/local/lib/python3.7/dist-packages (from scikit-image->efficientnet==1.0.0->keras-ocr) (1.3.0)\n",
            "Requirement already satisfied: tifffile>=2019.7.26 in /usr/local/lib/python3.7/dist-packages (from scikit-image->efficientnet==1.0.0->keras-ocr) (2021.11.2)\n",
            "Requirement already satisfied: kiwisolver>=1.0.1 in /usr/local/lib/python3.7/dist-packages (from matplotlib->imgaug->keras-ocr) (1.4.2)\n",
            "Requirement already satisfied: pyparsing!=2.0.4,!=2.1.2,!=2.1.6,>=2.0.1 in /usr/local/lib/python3.7/dist-packages (from matplotlib->imgaug->keras-ocr) (3.0.9)\n",
            "Requirement already satisfied: python-dateutil>=2.1 in /usr/local/lib/python3.7/dist-packages (from matplotlib->imgaug->keras-ocr) (2.8.2)\n",
            "Requirement already satisfied: cycler>=0.10 in /usr/local/lib/python3.7/dist-packages (from matplotlib->imgaug->keras-ocr) (0.11.0)\n",
            "Requirement already satisfied: typing-extensions in /usr/local/lib/python3.7/dist-packages (from kiwisolver>=1.0.1->matplotlib->imgaug->keras-ocr) (4.2.0)\n",
            "Requirement already satisfied: decorator>=3.4.0 in /usr/local/lib/python3.7/dist-packages (from validators->keras-ocr) (4.4.2)\n",
            "Building wheels for collected packages: keras-ocr, validators\n",
            "  Building wheel for keras-ocr (PEP 517) ... \u001b[?25l\u001b[?25hdone\n",
            "  Created wheel for keras-ocr: filename=keras_ocr-0.9.0.post2+40bb9bd-py3-none-any.whl size=42441 sha256=395ed38f34cb967c37e2cf7ce5f322a5231d7070ae68addf74cc2ca4a5851340\n",
            "  Stored in directory: /tmp/pip-ephem-wheel-cache-a_u7b8h8/wheels/20/d0/06/ed290995144ec8dde71d3a91d0d590145445c01be60ea70c9b\n",
            "  Building wheel for validators (setup.py) ... \u001b[?25l\u001b[?25hdone\n",
            "  Created wheel for validators: filename=validators-0.20.0-py3-none-any.whl size=19582 sha256=f750cda9b4da6af5ec43a7054cb6767174e91dd80eae63bc3aeb33418bcc6502\n",
            "  Stored in directory: /root/.cache/pip/wheels/5f/55/ab/36a76989f7f88d9ca7b1f68da6d94252bb6a8d6ad4f18e04e9\n",
            "Successfully built keras-ocr validators\n",
            "Installing collected packages: keras-applications, validators, pyclipper, fonttools, essential-generators, efficientnet, keras-ocr\n",
            "Successfully installed efficientnet-1.0.0 essential-generators-1.0 fonttools-4.33.3 keras-applications-1.0.8 keras-ocr-0.9.0.post2+40bb9bd pyclipper-1.3.0.post3 validators-0.20.0\n",
            "Looking in indexes: https://pypi.org/simple, https://us-python.pkg.dev/colab-wheels/public/simple/\n",
            "Requirement already satisfied: imgaug==0.2.9 in /usr/local/lib/python3.7/dist-packages (0.2.9)\n",
            "Requirement already satisfied: numpy>=1.15.0 in /usr/local/lib/python3.7/dist-packages (from imgaug==0.2.9) (1.21.6)\n",
            "Requirement already satisfied: scikit-image>=0.11.0 in /usr/local/lib/python3.7/dist-packages (from imgaug==0.2.9) (0.18.3)\n",
            "Requirement already satisfied: Shapely in /usr/local/lib/python3.7/dist-packages (from imgaug==0.2.9) (1.8.2)\n",
            "Requirement already satisfied: six in /usr/local/lib/python3.7/dist-packages (from imgaug==0.2.9) (1.15.0)\n",
            "Requirement already satisfied: scipy in /usr/local/lib/python3.7/dist-packages (from imgaug==0.2.9) (1.4.1)\n",
            "Requirement already satisfied: opencv-python in /usr/local/lib/python3.7/dist-packages (from imgaug==0.2.9) (4.1.2.30)\n",
            "Requirement already satisfied: Pillow in /usr/local/lib/python3.7/dist-packages (from imgaug==0.2.9) (7.1.2)\n",
            "Requirement already satisfied: matplotlib in /usr/local/lib/python3.7/dist-packages (from imgaug==0.2.9) (3.2.2)\n",
            "Requirement already satisfied: imageio in /usr/local/lib/python3.7/dist-packages (from imgaug==0.2.9) (2.4.1)\n",
            "Requirement already satisfied: tifffile>=2019.7.26 in /usr/local/lib/python3.7/dist-packages (from scikit-image>=0.11.0->imgaug==0.2.9) (2021.11.2)\n",
            "Requirement already satisfied: PyWavelets>=1.1.1 in /usr/local/lib/python3.7/dist-packages (from scikit-image>=0.11.0->imgaug==0.2.9) (1.3.0)\n",
            "Requirement already satisfied: networkx>=2.0 in /usr/local/lib/python3.7/dist-packages (from scikit-image>=0.11.0->imgaug==0.2.9) (2.6.3)\n",
            "Requirement already satisfied: kiwisolver>=1.0.1 in /usr/local/lib/python3.7/dist-packages (from matplotlib->imgaug==0.2.9) (1.4.2)\n",
            "Requirement already satisfied: cycler>=0.10 in /usr/local/lib/python3.7/dist-packages (from matplotlib->imgaug==0.2.9) (0.11.0)\n",
            "Requirement already satisfied: pyparsing!=2.0.4,!=2.1.2,!=2.1.6,>=2.0.1 in /usr/local/lib/python3.7/dist-packages (from matplotlib->imgaug==0.2.9) (3.0.9)\n",
            "Requirement already satisfied: python-dateutil>=2.1 in /usr/local/lib/python3.7/dist-packages (from matplotlib->imgaug==0.2.9) (2.8.2)\n",
            "Requirement already satisfied: typing-extensions in /usr/local/lib/python3.7/dist-packages (from kiwisolver>=1.0.1->matplotlib->imgaug==0.2.9) (4.2.0)\n",
            "Looking in indexes: https://pypi.org/simple, https://us-python.pkg.dev/colab-wheels/public/simple/\n",
            "Requirement already satisfied: opencv-python in /usr/local/lib/python3.7/dist-packages (4.1.2.30)\n",
            "Collecting opencv-python\n",
            "  Downloading opencv_python-4.6.0.66-cp36-abi3-manylinux_2_17_x86_64.manylinux2014_x86_64.whl (60.9 MB)\n",
            "\u001b[K     |████████████████████████████████| 60.9 MB 1.2 MB/s \n",
            "\u001b[?25hRequirement already satisfied: numpy>=1.14.5 in /usr/local/lib/python3.7/dist-packages (from opencv-python) (1.21.6)\n",
            "Installing collected packages: opencv-python\n",
            "  Attempting uninstall: opencv-python\n",
            "    Found existing installation: opencv-python 4.1.2.30\n",
            "    Uninstalling opencv-python-4.1.2.30:\n",
            "      Successfully uninstalled opencv-python-4.1.2.30\n",
            "\u001b[31mERROR: pip's dependency resolver does not currently take into account all the packages that are installed. This behaviour is the source of the following dependency conflicts.\n",
            "albumentations 0.1.12 requires imgaug<0.2.7,>=0.2.5, but you have imgaug 0.2.9 which is incompatible.\u001b[0m\n",
            "Successfully installed opencv-python-4.6.0.66\n"
          ]
        }
      ]
    },
    {
      "cell_type": "code",
      "execution_count": 2,
      "metadata": {
        "colab": {
          "base_uri": "https://localhost:8080/"
        },
        "id": "T4OFu2Y3jrBl",
        "outputId": "a6021af1-11ed-4542-87d3-409a49c7cbe0"
      },
      "outputs": [
        {
          "output_type": "stream",
          "name": "stdout",
          "text": [
            "Mounted at /content/drive\n"
          ]
        }
      ],
      "source": [
        "from google.colab import drive\n",
        "drive.mount('/content/drive')\n",
        "!cp /content/drive/MyDrive/Colab_Notebooks/VU/utils.py /content"
      ]
    },
    {
      "cell_type": "code",
      "source": [
        "from utils import *"
      ],
      "metadata": {
        "id": "gFpdf7UTWJek"
      },
      "execution_count": 3,
      "outputs": []
    },
    {
      "cell_type": "code",
      "source": [
        "import random\n",
        "import string\n",
        "import math\n",
        "import itertools\n",
        "import os\n",
        "import cv2 as cv\n",
        "\n",
        "import numpy as np\n",
        "import imgaug\n",
        "import matplotlib.pyplot as plt\n",
        "import tensorflow as tf\n",
        "import sklearn.model_selection\n",
        "\n",
        "import keras_ocr\n",
        "\n",
        "assert tf.config.list_physical_devices('GPU')"
      ],
      "metadata": {
        "id": "fkylwCISQ743"
      },
      "execution_count": 4,
      "outputs": []
    },
    {
      "cell_type": "markdown",
      "metadata": {
        "id": "pSWr6nzC_heY"
      },
      "source": [
        "This example shows how to fine-tune the recognizer using an existing dataset. In this case,\n",
        "we will use the \"Born Digital\" dataset from https://rrc.cvc.uab.es/?ch=1&com=downloads\n",
        "\n",
        "First, we download our dataset. Below we get both the training and test datasets, but\n",
        "we only use the training dataset. The training dataset consists of a single folder\n",
        "containing images, each of which has a single word in it. The labels are in a text\n",
        "file called `gt.txt`."
      ]
    },
    {
      "cell_type": "markdown",
      "source": [
        "## Dataset loading (training data)"
      ],
      "metadata": {
        "id": "lhPOAy5ZYF39"
      }
    },
    {
      "cell_type": "markdown",
      "source": [
        "**CTW1500 dataset**"
      ],
      "metadata": {
        "id": "t4ceHCnUZFEc"
      }
    },
    {
      "cell_type": "markdown",
      "source": [
        "Get images. Update location of images **manually**."
      ],
      "metadata": {
        "id": "97DN9W0tPrGx"
      }
    },
    {
      "cell_type": "code",
      "source": [
        "# path to image directory, get full path to all files\n",
        "imgs_dir = '/content/drive/MyDrive/Colab_Notebooks/VU/CTW1500/train_images'\n",
        "(_, _, filenames) = next(os.walk(imgs_dir))\n",
        "filenames.sort()\n",
        "list_img_paths = [os.path.join(imgs_dir, file) for file in filenames]\n",
        "n_imgs = len(list_img_paths)\n",
        "\n",
        "# load images\n",
        "train_images = [(cv.imread(file)) for file in list_img_paths]\n",
        "\n",
        "# path to label directory, get full path to all files\n",
        "labels_dir = '/content/drive/MyDrive/Colab_Notebooks/VU/CTW1500/ctw1500_train_labels'\n",
        "(_, _, xml_files) = next(os.walk(labels_dir))\n",
        "xml_files.sort()\n",
        "list_xml_paths = [os.path.join(labels_dir, file) for file in xml_files]\n",
        "\n"
      ],
      "metadata": {
        "id": "k8mtKHdykOfq"
      },
      "execution_count": 90,
      "outputs": []
    },
    {
      "cell_type": "markdown",
      "source": [
        "Get ground truths from all xml files"
      ],
      "metadata": {
        "id": "rttWVgWP1Dg5"
      }
    },
    {
      "cell_type": "code",
      "source": [
        "ground_truth = []\n",
        "\n",
        "for i, file in enumerate(list_xml_paths):\n",
        "     ground_truth.append(read_gt_ctw_train(file))\n",
        "\n",
        "# ground_truth is in the is a list of tuples, where first is the gt word \n",
        "# and second is an array of top left and bottom right coordinates\n",
        "# format: ('text', [[tl,tl],[br,br]])"
      ],
      "metadata": {
        "id": "yjB3g4kN1BeZ"
      },
      "execution_count": 93,
      "outputs": []
    },
    {
      "cell_type": "code",
      "source": [
        "cropped_gt = image_text_crop(train_images, filenames, ground_truth,  result_folder='./train_data', skip_longer_than=40)\n",
        "train_dir = '/content/train_data/'\n",
        "(_, _, train_files) = next(os.walk(train_dir))\n",
        "train_files = [os.path.join(train_dir, file) for file in sorted(train_files)]"
      ],
      "metadata": {
        "id": "DNfzqFayx9Wx",
        "colab": {
          "base_uri": "https://localhost:8080/"
        },
        "outputId": "02de3ffd-4618-4607-9fd4-ad401b753d85"
      },
      "execution_count": 113,
      "outputs": [
        {
          "output_type": "stream",
          "name": "stderr",
          "text": [
            "1000it [00:12, 81.08it/s]\n"
          ]
        }
      ]
    },
    {
      "cell_type": "code",
      "metadata": {
        "id": "1fCivLsTi8qA"
      },
      "source": [
        "train_labels = [\n",
        "    (filepath, None, \"\".join(\n",
        "        char for char in word.split('\\t',1)[1].lower() if (char.isalnum() or char.isspace()))) \n",
        "    for filepath, word in list(zip(train_files, cropped_gt))\n",
        "    ]"
      ],
      "execution_count": 117,
      "outputs": []
    },
    {
      "cell_type": "markdown",
      "metadata": {
        "id": "2vENhyWB_tWw"
      },
      "source": [
        "We next build our recognizer, using the default options to get a pretrained model."
      ]
    },
    {
      "cell_type": "code",
      "metadata": {
        "id": "wbZicDRHjKCe",
        "outputId": "a8e24a7e-4856-4c82-b5af-c060d455b630",
        "colab": {
          "base_uri": "https://localhost:8080/"
        }
      },
      "source": [
        "recognizer = keras_ocr.recognition.Recognizer()\n",
        "recognizer.compile()"
      ],
      "execution_count": 124,
      "outputs": [
        {
          "output_type": "stream",
          "name": "stdout",
          "text": [
            "Looking for /root/.keras-ocr/crnn_kurapan.h5\n"
          ]
        }
      ]
    },
    {
      "cell_type": "markdown",
      "metadata": {
        "id": "CNAYeoVC_xXo"
      },
      "source": [
        "We need to convert our dataset into the format that :code:`keras-ocr` requires. To \n",
        "do that, we have the following, which includes support for an augmenter to\n",
        "generate synthetically altered samples. Note that this code is set up to skip\n",
        "any characters that are not in the recognizer alphabet and that all labels\n",
        "are first converted to lowercase.\n"
      ]
    },
    {
      "cell_type": "code",
      "metadata": {
        "id": "XoMz6FAkjr13"
      },
      "source": [
        "batch_size = 8\n",
        "augmenter = imgaug.augmenters.Sequential([\n",
        "    imgaug.augmenters.GammaContrast(gamma=(0.25, 3.0)),\n",
        "])\n",
        "\n",
        "train_labels, validation_labels = sklearn.model_selection.train_test_split(train_labels, test_size=0.2, random_state=42)\n",
        "(training_image_gen, training_steps), (validation_image_gen, validation_steps) = [\n",
        "    (\n",
        "        keras_ocr.datasets.get_recognizer_image_generator(\n",
        "            labels=labels,\n",
        "            height=recognizer.model.input_shape[1],\n",
        "            width=recognizer.model.input_shape[2],\n",
        "            alphabet=recognizer.alphabet,\n",
        "            augmenter=augmenter\n",
        "        ),\n",
        "        len(labels) // batch_size\n",
        "    ) for labels, augmenter in [(train_labels, augmenter), (validation_labels, None)]     \n",
        "]\n",
        "training_gen, validation_gen = [\n",
        "    recognizer.get_batch_generator(\n",
        "        image_generator=image_generator,\n",
        "        batch_size=batch_size\n",
        "    )\n",
        "    for image_generator in [training_image_gen, validation_image_gen]\n",
        "]"
      ],
      "execution_count": 120,
      "outputs": []
    },
    {
      "cell_type": "markdown",
      "metadata": {
        "id": "jKG7BB_4_2tI"
      },
      "source": [
        "As a sanity check, we show one of the samples."
      ]
    },
    {
      "cell_type": "code",
      "metadata": {
        "id": "z2eHTeZW-lFt",
        "outputId": "3e7338cc-2523-4e67-b52c-058fc3e8c38b",
        "colab": {
          "base_uri": "https://localhost:8080/",
          "height": 138
        }
      },
      "source": [
        "image, text = next(training_image_gen)\n",
        "print('text:', text)\n",
        "_ = plt.imshow(image)"
      ],
      "execution_count": 121,
      "outputs": [
        {
          "output_type": "stream",
          "name": "stdout",
          "text": [
            "2145 / 5924 instances have illegal characters.\n",
            "text: new\n"
          ]
        },
        {
          "output_type": "display_data",
          "data": {
            "text/plain": [
              "<Figure size 432x288 with 1 Axes>"
            ],
            "image/png": "[encoded data removed]"
          },
          "metadata": {
            "needs_background": "light"
          }
        }
      ]
    },
    {
      "cell_type": "markdown",
      "metadata": {
        "id": "z_xEBogs_4cK"
      },
      "source": [
        "\n",
        "Now we can run training."
      ]
    },
    {
      "cell_type": "code",
      "metadata": {
        "id": "bwfxrcKFjtxi",
        "colab": {
          "base_uri": "https://localhost:8080/"
        },
        "outputId": "2ad744e7-7dc6-45e6-a9dc-6b6112ba7c2f"
      },
      "source": [
        "callbacks = [\n",
        "    tf.keras.callbacks.EarlyStopping(monitor='val_loss', min_delta=0, patience=100, restore_best_weights=False),\n",
        "    tf.keras.callbacks.ModelCheckpoint('recognizer_ctw2.h5', monitor='val_loss', save_best_only=True),\n",
        "    tf.keras.callbacks.CSVLogger('recognizer_ctw2.csv')\n",
        "]\n",
        "recognizer.training_model.fit_generator(\n",
        "    generator=training_gen,\n",
        "    steps_per_epoch=training_steps,\n",
        "    validation_steps=validation_steps,\n",
        "    validation_data=validation_gen,\n",
        "    callbacks=callbacks,\n",
        "    epochs=200,\n",
        ")"
      ],
      "execution_count": 125,
      "outputs": [
        {
          "output_type": "stream",
          "name": "stdout",
          "text": [
            "Epoch 1/200\n"
          ]
        },
        {
          "output_type": "stream",
          "name": "stderr",
          "text": [
            "/usr/local/lib/python3.7/dist-packages/ipykernel_launcher.py:12: UserWarning: `Model.fit_generator` is deprecated and will be removed in a future version. Please use `Model.fit`, which supports generators.\n",
            "  if sys.path[0] == '':\n"
          ]
        },
        {
          "output_type": "stream",
          "name": "stdout",
          "text": [
            "740/740 [==============================] - 83s 101ms/step - loss: 19.2185 - val_loss: 17.7803\n",
            "Epoch 2/200\n",
            "740/740 [==============================] - 74s 100ms/step - loss: 16.5294 - val_loss: 17.5392\n",
            "Epoch 3/200\n",
            "740/740 [==============================] - 75s 101ms/step - loss: 15.1002 - val_loss: 16.2487\n",
            "Epoch 4/200\n",
            "740/740 [==============================] - 74s 100ms/step - loss: 13.6474 - val_loss: 16.0579\n",
            "Epoch 5/200\n",
            "740/740 [==============================] - 74s 100ms/step - loss: 13.1634 - val_loss: 15.8567\n",
            "Epoch 6/200\n",
            "740/740 [==============================] - 75s 102ms/step - loss: 12.2384 - val_loss: 14.5967\n",
            "Epoch 7/200\n",
            "740/740 [==============================] - 74s 101ms/step - loss: 10.9980 - val_loss: 14.4658\n",
            "Epoch 8/200\n",
            "740/740 [==============================] - 74s 101ms/step - loss: 10.4834 - val_loss: 14.2612\n",
            "Epoch 9/200\n",
            "740/740 [==============================] - 74s 100ms/step - loss: 10.0216 - val_loss: 14.8033\n",
            "Epoch 10/200\n",
            "740/740 [==============================] - 75s 101ms/step - loss: 9.3915 - val_loss: 14.6913\n",
            "Epoch 11/200\n",
            "740/740 [==============================] - 74s 100ms/step - loss: 8.5805 - val_loss: 14.4907\n",
            "Epoch 12/200\n",
            "740/740 [==============================] - 74s 100ms/step - loss: 8.4827 - val_loss: 15.2060\n",
            "Epoch 13/200\n",
            "740/740 [==============================] - 75s 101ms/step - loss: 8.2236 - val_loss: 15.3275\n",
            "Epoch 14/200\n",
            "740/740 [==============================] - 74s 100ms/step - loss: 7.6745 - val_loss: 15.9592\n",
            "Epoch 15/200\n",
            "740/740 [==============================] - 74s 100ms/step - loss: 7.2593 - val_loss: 16.1531\n",
            "Epoch 16/200\n",
            "740/740 [==============================] - 76s 102ms/step - loss: 7.1173 - val_loss: 15.8878\n",
            "Epoch 17/200\n",
            "740/740 [==============================] - 74s 100ms/step - loss: 6.9170 - val_loss: 17.0007\n",
            "Epoch 18/200\n",
            "740/740 [==============================] - 74s 100ms/step - loss: 6.4202 - val_loss: 16.5756\n",
            "Epoch 19/200\n",
            "740/740 [==============================] - 75s 101ms/step - loss: 6.3029 - val_loss: 17.4539\n",
            "Epoch 20/200\n",
            "740/740 [==============================] - 75s 101ms/step - loss: 6.2765 - val_loss: 15.8408\n",
            "Epoch 21/200\n",
            "740/740 [==============================] - 74s 100ms/step - loss: 5.9210 - val_loss: 17.0214\n",
            "Epoch 22/200\n",
            "740/740 [==============================] - 74s 101ms/step - loss: 5.6666 - val_loss: 18.2872\n",
            "Epoch 23/200\n",
            "740/740 [==============================] - 76s 102ms/step - loss: 5.4556 - val_loss: 18.0785\n",
            "Epoch 24/200\n",
            "740/740 [==============================] - 75s 102ms/step - loss: 5.4416 - val_loss: 18.1260\n",
            "Epoch 25/200\n",
            "740/740 [==============================] - 74s 100ms/step - loss: 5.1689 - val_loss: 16.3692\n",
            "Epoch 26/200\n",
            "740/740 [==============================] - 75s 101ms/step - loss: 4.9471 - val_loss: 18.7471\n",
            "Epoch 27/200\n",
            "740/740 [==============================] - 75s 101ms/step - loss: 4.9170 - val_loss: 18.3140\n",
            "Epoch 28/200\n",
            "740/740 [==============================] - 75s 101ms/step - loss: 4.5361 - val_loss: 19.0730\n",
            "Epoch 29/200\n",
            "740/740 [==============================] - 76s 102ms/step - loss: 4.6999 - val_loss: 19.2215\n",
            "Epoch 30/200\n",
            "740/740 [==============================] - 74s 101ms/step - loss: 4.4742 - val_loss: 18.5560\n",
            "Epoch 31/200\n",
            "740/740 [==============================] - 75s 101ms/step - loss: 4.2726 - val_loss: 19.0041\n",
            "Epoch 32/200\n",
            "740/740 [==============================] - 75s 101ms/step - loss: 4.2213 - val_loss: 19.3597\n",
            "Epoch 33/200\n",
            "740/740 [==============================] - 76s 103ms/step - loss: 4.1210 - val_loss: 20.0133\n",
            "Epoch 34/200\n",
            "740/740 [==============================] - 75s 102ms/step - loss: 4.0699 - val_loss: 21.1024\n",
            "Epoch 35/200\n",
            "740/740 [==============================] - 75s 102ms/step - loss: 3.9509 - val_loss: 20.0790\n",
            "Epoch 36/200\n",
            "740/740 [==============================] - 75s 102ms/step - loss: 3.9200 - val_loss: 21.3631\n",
            "Epoch 37/200\n",
            "740/740 [==============================] - 75s 102ms/step - loss: 3.8916 - val_loss: 20.6525\n",
            "Epoch 38/200\n",
            "740/740 [==============================] - 74s 101ms/step - loss: 3.5760 - val_loss: 21.5496\n",
            "Epoch 39/200\n",
            "740/740 [==============================] - 76s 102ms/step - loss: 3.8113 - val_loss: 22.2444\n",
            "Epoch 40/200\n",
            "740/740 [==============================] - 75s 101ms/step - loss: 3.4071 - val_loss: 21.5102\n",
            "Epoch 41/200\n",
            "740/740 [==============================] - 74s 101ms/step - loss: 3.6034 - val_loss: 19.9872\n",
            "Epoch 42/200\n",
            "740/740 [==============================] - 74s 101ms/step - loss: 3.2703 - val_loss: 20.7690\n",
            "Epoch 43/200\n",
            "740/740 [==============================] - 75s 102ms/step - loss: 3.4566 - val_loss: 22.1886\n",
            "Epoch 44/200\n",
            "740/740 [==============================] - 74s 100ms/step - loss: 3.1473 - val_loss: 21.0597\n",
            "Epoch 45/200\n",
            "740/740 [==============================] - 75s 101ms/step - loss: 3.2174 - val_loss: 21.0391\n",
            "Epoch 46/200\n",
            "740/740 [==============================] - 75s 101ms/step - loss: 3.1132 - val_loss: 22.2132\n",
            "Epoch 47/200\n",
            "740/740 [==============================] - 74s 100ms/step - loss: 2.9483 - val_loss: 21.7156\n",
            "Epoch 48/200\n",
            "740/740 [==============================] - 73s 99ms/step - loss: 3.0277 - val_loss: 22.8457\n",
            "Epoch 49/200\n",
            "740/740 [==============================] - 74s 99ms/step - loss: 2.9137 - val_loss: 23.3478\n",
            "Epoch 50/200\n",
            "740/740 [==============================] - 75s 101ms/step - loss: 2.8041 - val_loss: 21.6965\n",
            "Epoch 51/200\n",
            "740/740 [==============================] - 73s 99ms/step - loss: 2.7998 - val_loss: 22.6660\n",
            "Epoch 52/200\n",
            "740/740 [==============================] - 74s 99ms/step - loss: 2.7877 - val_loss: 24.3285\n",
            "Epoch 53/200\n",
            "740/740 [==============================] - 74s 100ms/step - loss: 2.8159 - val_loss: 22.7759\n",
            "Epoch 54/200\n",
            "740/740 [==============================] - 74s 99ms/step - loss: 2.6331 - val_loss: 23.0956\n",
            "Epoch 55/200\n",
            "740/740 [==============================] - 74s 99ms/step - loss: 2.6638 - val_loss: 22.2240\n",
            "Epoch 56/200\n",
            "740/740 [==============================] - 74s 100ms/step - loss: 2.4892 - val_loss: 23.8746\n",
            "Epoch 57/200\n",
            "740/740 [==============================] - 74s 100ms/step - loss: 2.5457 - val_loss: 23.7074\n",
            "Epoch 58/200\n",
            "740/740 [==============================] - 74s 100ms/step - loss: 2.4430 - val_loss: 24.8938\n",
            "Epoch 59/200\n",
            "740/740 [==============================] - 73s 99ms/step - loss: 2.5383 - val_loss: 22.7729\n",
            "Epoch 60/200\n",
            "740/740 [==============================] - 74s 101ms/step - loss: 2.3552 - val_loss: 24.0860\n",
            "Epoch 61/200\n",
            "740/740 [==============================] - 74s 100ms/step - loss: 2.4164 - val_loss: 22.9527\n",
            "Epoch 62/200\n",
            "740/740 [==============================] - 74s 100ms/step - loss: 2.2775 - val_loss: 24.5244\n",
            "Epoch 63/200\n",
            "740/740 [==============================] - 74s 100ms/step - loss: 2.2058 - val_loss: 23.9051\n",
            "Epoch 64/200\n",
            "740/740 [==============================] - 73s 99ms/step - loss: 2.3176 - val_loss: 24.3411\n",
            "Epoch 65/200\n",
            "740/740 [==============================] - 74s 99ms/step - loss: 2.1124 - val_loss: 25.4496\n",
            "Epoch 66/200\n",
            "740/740 [==============================] - 73s 99ms/step - loss: 2.2309 - val_loss: 24.8089\n",
            "Epoch 67/200\n",
            "740/740 [==============================] - 74s 100ms/step - loss: 2.0835 - val_loss: 26.0367\n",
            "Epoch 68/200\n",
            "740/740 [==============================] - 73s 99ms/step - loss: 1.9805 - val_loss: 25.0943\n",
            "Epoch 69/200\n",
            "740/740 [==============================] - 74s 99ms/step - loss: 2.0162 - val_loss: 25.0965\n",
            "Epoch 70/200\n",
            "740/740 [==============================] - 75s 101ms/step - loss: 1.9815 - val_loss: 23.9104\n",
            "Epoch 71/200\n",
            "740/740 [==============================] - 74s 100ms/step - loss: 1.9613 - val_loss: 26.2752\n",
            "Epoch 72/200\n",
            "740/740 [==============================] - 74s 101ms/step - loss: 1.9200 - val_loss: 25.0089\n",
            "Epoch 73/200\n",
            "740/740 [==============================] - 74s 100ms/step - loss: 1.8199 - val_loss: 26.6045\n",
            "Epoch 74/200\n",
            "740/740 [==============================] - 74s 100ms/step - loss: 1.9614 - val_loss: 25.4516\n",
            "Epoch 75/200\n",
            "740/740 [==============================] - 73s 99ms/step - loss: 1.8943 - val_loss: 25.6439\n",
            "Epoch 76/200\n",
            "740/740 [==============================] - 73s 99ms/step - loss: 1.9194 - val_loss: 25.1912\n",
            "Epoch 77/200\n",
            "740/740 [==============================] - 74s 100ms/step - loss: 1.8699 - val_loss: 25.0038\n",
            "Epoch 78/200\n",
            "740/740 [==============================] - 74s 100ms/step - loss: 1.7716 - val_loss: 26.4830\n",
            "Epoch 79/200\n",
            "740/740 [==============================] - 74s 101ms/step - loss: 1.7681 - val_loss: 26.9778\n",
            "Epoch 80/200\n",
            "740/740 [==============================] - 75s 101ms/step - loss: 1.6705 - val_loss: 26.5699\n",
            "Epoch 81/200\n",
            "740/740 [==============================] - 75s 101ms/step - loss: 1.6151 - val_loss: 24.8304\n",
            "Epoch 82/200\n",
            "740/740 [==============================] - 74s 100ms/step - loss: 1.7125 - val_loss: 25.0963\n",
            "Epoch 83/200\n",
            "740/740 [==============================] - 74s 100ms/step - loss: 1.6635 - val_loss: 26.0237\n",
            "Epoch 84/200\n",
            "740/740 [==============================] - 74s 100ms/step - loss: 1.6059 - val_loss: 25.8340\n",
            "Epoch 85/200\n",
            "740/740 [==============================] - 74s 100ms/step - loss: 1.6323 - val_loss: 26.8555\n",
            "Epoch 86/200\n",
            "740/740 [==============================] - 74s 100ms/step - loss: 1.5516 - val_loss: 25.8491\n",
            "Epoch 87/200\n",
            "740/740 [==============================] - 75s 102ms/step - loss: 1.5732 - val_loss: 26.5754\n",
            "Epoch 88/200\n",
            "740/740 [==============================] - 74s 100ms/step - loss: 1.4710 - val_loss: 26.6247\n",
            "Epoch 89/200\n",
            "740/740 [==============================] - 74s 99ms/step - loss: 1.5088 - val_loss: 25.7543\n",
            "Epoch 90/200\n",
            "740/740 [==============================] - 74s 100ms/step - loss: 1.4648 - val_loss: 26.3620\n",
            "Epoch 91/200\n",
            "740/740 [==============================] - 74s 100ms/step - loss: 1.5007 - val_loss: 26.9782\n",
            "Epoch 92/200\n",
            "740/740 [==============================] - 73s 99ms/step - loss: 1.4353 - val_loss: 26.3971\n",
            "Epoch 93/200\n",
            "740/740 [==============================] - 74s 100ms/step - loss: 1.3876 - val_loss: 27.1586\n",
            "Epoch 94/200\n",
            "740/740 [==============================] - 73s 99ms/step - loss: 1.4216 - val_loss: 26.3551\n",
            "Epoch 95/200\n",
            "740/740 [==============================] - 75s 101ms/step - loss: 1.3699 - val_loss: 27.2850\n",
            "Epoch 96/200\n",
            "740/740 [==============================] - 73s 99ms/step - loss: 1.4175 - val_loss: 27.0178\n",
            "Epoch 97/200\n",
            "740/740 [==============================] - 74s 100ms/step - loss: 1.3705 - val_loss: 27.5134\n",
            "Epoch 98/200\n",
            "740/740 [==============================] - 74s 101ms/step - loss: 1.3337 - val_loss: 28.2813\n",
            "Epoch 99/200\n",
            "740/740 [==============================] - 74s 100ms/step - loss: 1.2969 - val_loss: 27.3992\n",
            "Epoch 100/200\n",
            "740/740 [==============================] - 74s 100ms/step - loss: 1.2963 - val_loss: 28.8917\n",
            "Epoch 101/200\n",
            "740/740 [==============================] - 75s 101ms/step - loss: 1.2858 - val_loss: 27.9273\n",
            "Epoch 102/200\n",
            "740/740 [==============================] - 75s 102ms/step - loss: 1.2248 - val_loss: 27.4712\n",
            "Epoch 103/200\n",
            "740/740 [==============================] - 74s 100ms/step - loss: 1.3451 - val_loss: 26.8506\n",
            "Epoch 104/200\n",
            "740/740 [==============================] - 74s 100ms/step - loss: 1.2861 - val_loss: 28.9330\n",
            "Epoch 105/200\n",
            "740/740 [==============================] - 74s 100ms/step - loss: 1.1509 - val_loss: 29.3132\n",
            "Epoch 106/200\n",
            "740/740 [==============================] - 75s 101ms/step - loss: 1.1993 - val_loss: 28.6991\n",
            "Epoch 107/200\n",
            "740/740 [==============================] - 74s 100ms/step - loss: 1.2584 - val_loss: 28.3955\n",
            "Epoch 108/200\n",
            "740/740 [==============================] - 73s 99ms/step - loss: 1.1701 - val_loss: 27.0098\n"
          ]
        },
        {
          "output_type": "execute_result",
          "data": {
            "text/plain": [
              "<keras.callbacks.History at 0x7f50ae538550>"
            ]
          },
          "metadata": {},
          "execution_count": 125
        }
      ]
    },
    {
      "cell_type": "markdown",
      "metadata": {
        "id": "PPGLJuLg_6iF"
      },
      "source": [
        "Finally, run inference on a test sample."
      ]
    },
    {
      "cell_type": "code",
      "metadata": {
        "id": "nRNPIzN7kdvY",
        "outputId": "6454dddd-cade-4940-dc34-76b08fe9bfa3",
        "colab": {
          "base_uri": "https://localhost:8080/",
          "height": 88
        }
      },
      "source": [
        "image_filepath, _, actual = train_labels[1]\n",
        "predicted = recognizer.recognize(image_filepath)\n",
        "print(f'Predicted: {predicted}, Actual: {actual}')\n",
        "_ = plt.imshow(keras_ocr.tools.read(image_filepath))"
      ],
      "execution_count": 133,
      "outputs": [
        {
          "output_type": "stream",
          "name": "stdout",
          "text": [
            "Predicted: noolvidestufotodeprimeracomunion, Actual: no olvides tu foto de primera comunion\n"
          ]
        },
        {
          "output_type": "display_data",
          "data": {
            "text/plain": [
              "<Figure size 432x288 with 1 Axes>"
            ],
            "image/png": "[encoded data removed]"
          },
          "metadata": {
            "needs_background": "light"
          }
        }
      ]
    },
    {
      "cell_type": "code",
      "source": [
        "recognizer.model.load_weights('recognizer_ctw.h5')"
      ],
      "metadata": {
        "id": "-rNUnyVXQ1Gx"
      },
      "execution_count": 88,
      "outputs": []
    },
    {
      "cell_type": "code",
      "source": [
        "image_filepath, _, actual = train_labels[1398]\n",
        "predicted = recognizer.recognize(image_filepath)\n",
        "print(f'Predicted: {predicted}, Actual: {actual}')\n",
        "_ = plt.imshow(keras_ocr.tools.read(image_filepath))"
      ],
      "metadata": {
        "colab": {
          "base_uri": "https://localhost:8080/",
          "height": 133
        },
        "id": "nlsVt3sjRSUK",
        "outputId": "7418e3ca-b45b-47ba-bb64-107ecc294d83"
      },
      "execution_count": 144,
      "outputs": [
        {
          "output_type": "stream",
          "name": "stdout",
          "text": [
            "Predicted: southwarkcathedral, Actual: southwark cathedral\n"
          ]
        },
        {
          "output_type": "display_data",
          "data": {
            "text/plain": [
              "<Figure size 432x288 with 1 Axes>"
            ],
            "image/png": "[encoded data removed]"
          },
          "metadata": {
            "needs_background": "light"
          }
        }
      ]
    },
    {
      "cell_type": "code",
      "source": [
        ""
      ],
      "metadata": {
        "id": "Qa1YlkrqRUoa"
      },
      "execution_count": null,
      "outputs": []
    }
  ]
}